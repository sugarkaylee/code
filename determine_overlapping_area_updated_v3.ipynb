{
 "cells": [
  {
   "cell_type": "code",
   "execution_count": 1,
   "metadata": {},
   "outputs": [],
   "source": [
    "import os\n",
    "import glob\n",
    "import rasterio\n",
    "from rasterio.features import geometry_mask\n",
    "from shapely.geometry import shape\n",
    "import numpy as np\n",
    "import matplotlib.pyplot as plt\n",
    "from rasterio.merge import merge\n",
    "from rasterio.transform import from_origin"
   ]
  },
  {
   "cell_type": "markdown",
   "metadata": {},
   "source": [
    "## Merging all tif images into one tif image"
   ]
  },
  {
   "cell_type": "markdown",
   "metadata": {},
   "source": [
    "### Create the variable \"tif_paths\" that contain all image directories"
   ]
  },
  {
   "cell_type": "code",
   "execution_count": null,
   "metadata": {},
   "outputs": [],
   "source": [
    "# Folder containing GeoTIFF images\n",
    "folder_path = r\"C:\\Users\\yixiu\\data_from_eosloan_reloc\\historical_data\\all_tiles_historical_resampled_500m\\16bit_20060529\"\n",
    "\n",
    "# Define the search pattern for GeoTIFF files\n",
    "tif_pattern = os.path.join(folder_path, \"*.tif\")\n",
    "\n",
    "# Use glob to get a list of all GeoTIFF files in the folder\n",
    "tif_paths = glob.glob(tif_pattern)\n",
    "\n",
    "# Print the list of GeoTIFF paths\n",
    "for tif_path in tif_paths:\n",
    "    print(tif_path)"
   ]
  },
  {
   "cell_type": "markdown",
   "metadata": {},
   "source": [
    "### Merge all the images"
   ]
  },
  {
   "cell_type": "code",
   "execution_count": 5,
   "metadata": {},
   "outputs": [],
   "source": [
    "# Open all GeoTIFFs\n",
    "src_files_to_mosaic = [rasterio.open(path) for path in tif_paths]\n",
    "\n",
    "# Merge images\n",
    "mosaic, out_trans = merge(src_files_to_mosaic)\n",
    "\n",
    "# Create an output GeoTIFF\n",
    "out_meta = src_files_to_mosaic[0].meta.copy()\n",
    "out_meta.update({\"driver\": \"GTiff\",\n",
    "                 \"height\": mosaic.shape[1],\n",
    "                 \"width\": mosaic.shape[2],\n",
    "                 \"transform\": out_trans})\n",
    "\n",
    "# Write the mosaic to a new GeoTIFF file\n",
    "with rasterio.open(r\"C:\\Users\\yixiu\\data_from_eosloan_reloc\\historical_data\\all_tiles_historical_resampled_500m\\16bit_20060529_combined\\output_mosaic.tif\", \"w\", **out_meta) as dest:\n",
    "    dest.write(mosaic)"
   ]
  },
  {
   "cell_type": "markdown",
   "metadata": {},
   "source": [
    "### Merge 500m_resize_20080420_combined"
   ]
  },
  {
   "cell_type": "code",
   "execution_count": null,
   "metadata": {},
   "outputs": [],
   "source": [
    "# Folder containing GeoTIFF images\n",
    "folder_path_500m_resize_20080420 = r\"C:\\Users\\yixiu\\data_from_eosloan_reloc\\historical_data\\all_tiles_historical_resampled_500m\\500m_resize_20080420\"\n",
    "\n",
    "# Define the search pattern for GeoTIFF files\n",
    "tif_pattern_500m_resize_20080420 = os.path.join(folder_path_500m_resize_20080420, \"*.tif\")\n",
    "\n",
    "# Use glob to get a list of all GeoTIFF files in the folder\n",
    "tif_paths_500m_resize_20080420 = glob.glob(tif_pattern_500m_resize_20080420)\n",
    "\n",
    "# Print the list of GeoTIFF paths\n",
    "for tif_path in tif_paths_500m_resize_20080420:\n",
    "    print(tif_path)"
   ]
  },
  {
   "cell_type": "code",
   "execution_count": 5,
   "metadata": {},
   "outputs": [],
   "source": [
    "# Open all GeoTIFFs\n",
    "src_files_to_mosaic_500m_resize_20080420 = [rasterio.open(path) for path in tif_paths_500m_resize_20080420]\n",
    "\n",
    "# Merge images\n",
    "mosaic_500m_resize_20080420, out_trans_500m_resize_20080420 = merge(src_files_to_mosaic_500m_resize_20080420)\n",
    "\n",
    "# Create an output GeoTIFF\n",
    "out_meta_500m_resize_20080420 = src_files_to_mosaic_500m_resize_20080420[0].meta.copy()\n",
    "out_meta_500m_resize_20080420.update({\"driver\": \"GTiff\",\n",
    "                 \"height\": mosaic_500m_resize_20080420.shape[1],\n",
    "                 \"width\": mosaic_500m_resize_20080420.shape[2],\n",
    "                 \"transform\": out_trans_500m_resize_20080420})\n",
    "\n",
    "# Write the mosaic to a new GeoTIFF file\n",
    "with rasterio.open(r\"C:\\Users\\yixiu\\data_from_eosloan_reloc\\historical_data\\all_tiles_historical_resampled_500m\\500m_resize_20080420_combined\\500m_resize_20080420_combined.tif\", \"w\", **out_meta_500m_resize_20080420) as dest:\n",
    "    dest.write(mosaic_500m_resize_20080420)"
   ]
  },
  {
   "cell_type": "markdown",
   "metadata": {},
   "source": [
    "### Merge 500m_resize_20100413_combined"
   ]
  },
  {
   "cell_type": "code",
   "execution_count": null,
   "metadata": {},
   "outputs": [],
   "source": [
    "# Folder containing GeoTIFF images\n",
    "folder_path_500m_resize_20100413 = r\"C:\\Users\\yixiu\\data_from_eosloan_reloc\\historical_data\\all_tiles_historical_resampled_500m\\500m_resize_20100413\"\n",
    "\n",
    "# Define the search pattern for GeoTIFF files\n",
    "tif_pattern_500m_resize_20100413 = os.path.join(folder_path_500m_resize_20100413, \"*.tif\")\n",
    "\n",
    "# Use glob to get a list of all GeoTIFF files in the folder\n",
    "tif_paths_500m_resize_20100413 = glob.glob(tif_pattern_500m_resize_20100413)\n",
    "\n",
    "# Print the list of GeoTIFF paths\n",
    "for tif_path in tif_paths_500m_resize_20100413:\n",
    "    print(tif_path)"
   ]
  },
  {
   "cell_type": "code",
   "execution_count": 3,
   "metadata": {},
   "outputs": [],
   "source": [
    "# Open all GeoTIFFs\n",
    "src_files_to_mosaic_500m_resize_20100413 = [rasterio.open(path) for path in tif_paths_500m_resize_20100413]\n",
    "\n",
    "# Merge images\n",
    "mosaic_500m_resize_20100413, out_trans_500m_resize_20100413 = merge(src_files_to_mosaic_500m_resize_20100413)\n",
    "\n",
    "# Create an output GeoTIFF\n",
    "out_meta_500m_resize_20100413 = src_files_to_mosaic_500m_resize_20100413[0].meta.copy()\n",
    "out_meta_500m_resize_20100413.update({\"driver\": \"GTiff\",\n",
    "                 \"height\": mosaic_500m_resize_20100413.shape[1],\n",
    "                 \"width\": mosaic_500m_resize_20100413.shape[2],\n",
    "                 \"transform\": out_trans_500m_resize_20100413})\n",
    "\n",
    "# Write the mosaic to a new GeoTIFF file\n",
    "with rasterio.open(r\"C:\\Users\\yixiu\\data_from_eosloan_reloc\\historical_data\\all_tiles_historical_resampled_500m\\500m_resize_20100413_combined\\500m_resize_20100413_combined.tif\", \"w\", **out_meta_500m_resize_20100413) as dest:\n",
    "    dest.write(mosaic_500m_resize_20100413)"
   ]
  },
  {
   "cell_type": "markdown",
   "metadata": {},
   "source": [
    "### Merge output_20100413"
   ]
  },
  {
   "cell_type": "code",
   "execution_count": null,
   "metadata": {},
   "outputs": [],
   "source": [
    "# Folder containing GeoTIFF images\n",
    "folder_path_output_20100413 = r\"C:\\Users\\yixiu\\data_from_eosloan_reloc\\historical_data\\all_tiles_historical_resampled_500m\\output_20100413\"\n",
    "\n",
    "# Define the search pattern for GeoTIFF files\n",
    "tif_pattern_output_20100413 = os.path.join(folder_path_output_20100413, \"*.tif\")\n",
    "\n",
    "# Use glob to get a list of all GeoTIFF files in the folder\n",
    "tif_paths_output_20100413 = glob.glob(tif_pattern_output_20100413)\n",
    "\n",
    "# Print the list of GeoTIFF paths\n",
    "for tif_path in tif_paths_output_20100413:\n",
    "    print(tif_path)"
   ]
  },
  {
   "cell_type": "code",
   "execution_count": null,
   "metadata": {},
   "outputs": [],
   "source": [
    "# Open all GeoTIFFs\n",
    "src_files_to_mosaic_output_20100413 = [rasterio.open(path) for path in tif_paths_output_20100413]\n",
    "\n",
    "# Merge images\n",
    "mosaic_output_20100413, out_trans_output_20100413 = merge(src_files_to_mosaic_output_20100413)\n",
    "\n",
    "# Create an output GeoTIFF\n",
    "out_meta_output_20100413 = src_files_to_mosaic_output_20100413[0].meta.copy()\n",
    "out_meta_output_20100413.update({\"driver\": \"GTiff\",\n",
    "                 \"height\": mosaic_output_20100413.shape[1],\n",
    "                 \"width\": mosaic_output_20100413.shape[2],\n",
    "                 \"transform\": out_trans_output_20100413})\n",
    "\n",
    "# Write the mosaic to a new GeoTIFF file\n",
    "with rasterio.open(r\"C:\\Users\\yixiu\\data_from_eosloan_reloc\\historical_data\\all_tiles_historical_resampled_500m\\output_20100413_combined\\output_20100413_combined.tif\", \"w\", **out_meta_output_20100413) as dest:\n",
    "    dest.write(mosaic_output_20100413)"
   ]
  },
  {
   "cell_type": "markdown",
   "metadata": {},
   "source": [
    "## Determine overlapping area"
   ]
  },
  {
   "cell_type": "markdown",
   "metadata": {},
   "source": [
    "### Create the function to create binary mask"
   ]
  },
  {
   "cell_type": "code",
   "execution_count": null,
   "metadata": {},
   "outputs": [],
   "source": [
    "def create_binary_mask(image_path):\n",
    "    with rasterio.open(image_path) as src:\n",
    "        # Get the full geometry of the image\n",
    "        full_geometry = src.shape\n",
    "\n",
    "        # Create a binary mask for the entire image\n",
    "        mask = geometry_mask([full_geometry], transform=src.transform, invert=False, out_shape=src.shape, dtype='bool')\n",
    "        return mask"
   ]
  },
  {
   "cell_type": "code",
   "execution_count": null,
   "metadata": {},
   "outputs": [],
   "source": [
    "# original version (doesn't work)\n",
    "# image_path = r\"C:\\Users\\yixiu\\data_from_eosloan_reloc\\historical_data\\all_tiles_historical_resampled_500m\\500m_resize\\500m_resize_20060529_combined\\500m_resize_20060529_combined.tif\"\n",
    "# with rasterio.open(image_path) as src:\n",
    "#     # Get the full geometry of the image\n",
    "#     full_geometry = src.shape\n",
    "\n",
    "#     # Create a binary mask for the entire image\n",
    "#     mask = geometry_mask([full_geometry], transform=src.transform, invert=False, out_shape=src.shape, dtype='bool')"
   ]
  },
  {
   "cell_type": "markdown",
   "metadata": {},
   "source": [
    "#### corrected version"
   ]
  },
  {
   "cell_type": "code",
   "execution_count": 11,
   "metadata": {},
   "outputs": [
    {
     "name": "stdout",
     "output_type": "stream",
     "text": [
      "[[ True  True  True ...  True  True  True]\n",
      " [ True  True  True ...  True  True  True]\n",
      " [ True  True  True ...  True  True  True]\n",
      " ...\n",
      " [ True  True  True ...  True  True  True]\n",
      " [ True  True  True ...  True  True  True]\n",
      " [ True  True  True ...  True  True  True]]\n"
     ]
    }
   ],
   "source": [
    "image_path1 = r\"C:\\Users\\yixiu\\data_from_eosloan_reloc\\historical_data\\all_tiles_historical_resampled_500m\\500m_resize\\500m_resize_20060529_combined\\500m_resize_20060529_combined.tif\"\n",
    "\n",
    "with rasterio.open(image_path1) as src:\n",
    "    # Create an array of ones with the same shape as the image\n",
    "    # This creates a \"mask\" where every pixel is considered \"masked\" (value of 1)\n",
    "    # If you want the opposite (everything unmasked), you can use np.zeros instead of np.ones\n",
    "    mask1 = np.ones(src.shape, dtype=bool)\n",
    "\n",
    "# At this point, mask is a binary mask for the entire image, where every pixel is masked.\n",
    "\n",
    "print(mask1)"
   ]
  },
  {
   "cell_type": "code",
   "execution_count": 6,
   "metadata": {},
   "outputs": [
    {
     "name": "stdout",
     "output_type": "stream",
     "text": [
      "[[ True  True  True ...  True  True  True]\n",
      " [ True  True  True ...  True  True  True]\n",
      " [ True  True  True ...  True  True  True]\n",
      " ...\n",
      " [ True  True  True ...  True  True  True]\n",
      " [ True  True  True ...  True  True  True]\n",
      " [ True  True  True ...  True  True  True]]\n"
     ]
    }
   ],
   "source": [
    "image_path2 = r\"C:\\Users\\yixiu\\data_from_eosloan_reloc\\historical_data\\all_tiles_historical_resampled_500m\\500m_resize\\500m_resize_20080420_combined\\500m_resize_20080420_combined.tif\"\n",
    "\n",
    "with rasterio.open(image_path2) as src:\n",
    "    mask2 = np.ones(src.shape, dtype=bool)\n",
    "\n",
    "print(mask2)"
   ]
  },
  {
   "cell_type": "code",
   "execution_count": 7,
   "metadata": {},
   "outputs": [
    {
     "name": "stdout",
     "output_type": "stream",
     "text": [
      "[[ True  True  True ...  True  True  True]\n",
      " [ True  True  True ...  True  True  True]\n",
      " [ True  True  True ...  True  True  True]\n",
      " ...\n",
      " [ True  True  True ...  True  True  True]\n",
      " [ True  True  True ...  True  True  True]\n",
      " [ True  True  True ...  True  True  True]]\n"
     ]
    }
   ],
   "source": [
    "image_path3 = r\"C:\\Users\\yixiu\\data_from_eosloan_reloc\\historical_data\\all_tiles_historical_resampled_500m\\500m_resize\\500m_resize_20100413_combined\\500m_resize_20100413_combined.tif\"\n",
    "\n",
    "with rasterio.open(image_path3) as src:\n",
    "    mask3 = np.ones(src.shape, dtype=bool)\n",
    "\n",
    "print(mask3)"
   ]
  },
  {
   "cell_type": "code",
   "execution_count": 8,
   "metadata": {},
   "outputs": [
    {
     "name": "stdout",
     "output_type": "stream",
     "text": [
      "[[ True  True  True ...  True  True  True]\n",
      " [ True  True  True ...  True  True  True]\n",
      " [ True  True  True ...  True  True  True]\n",
      " ...\n",
      " [ True  True  True ...  True  True  True]\n",
      " [ True  True  True ...  True  True  True]\n",
      " [ True  True  True ...  True  True  True]]\n"
     ]
    }
   ],
   "source": [
    "image_path4 = r\"C:\\Users\\yixiu\\data_from_eosloan_reloc\\historical_data\\all_tiles_historical_resampled_500m\\output_folder\\output_20060529_combined\\output_20060529_combined.tif\"\n",
    "\n",
    "with rasterio.open(image_path4) as src:\n",
    "    mask4 = np.ones(src.shape, dtype=bool)\n",
    "\n",
    "print(mask4)"
   ]
  },
  {
   "cell_type": "code",
   "execution_count": 9,
   "metadata": {},
   "outputs": [
    {
     "name": "stdout",
     "output_type": "stream",
     "text": [
      "[[ True  True  True ...  True  True  True]\n",
      " [ True  True  True ...  True  True  True]\n",
      " [ True  True  True ...  True  True  True]\n",
      " ...\n",
      " [ True  True  True ...  True  True  True]\n",
      " [ True  True  True ...  True  True  True]\n",
      " [ True  True  True ...  True  True  True]]\n"
     ]
    }
   ],
   "source": [
    "image_path5 = r\"C:\\Users\\yixiu\\data_from_eosloan_reloc\\historical_data\\all_tiles_historical_resampled_500m\\output_folder\\output_20080420_combined\\output_20080420_combined.tif\"\n",
    "\n",
    "with rasterio.open(image_path5) as src:\n",
    "    mask5 = np.ones(src.shape, dtype=bool)\n",
    "\n",
    "print(mask5)"
   ]
  },
  {
   "cell_type": "code",
   "execution_count": 10,
   "metadata": {},
   "outputs": [
    {
     "name": "stdout",
     "output_type": "stream",
     "text": [
      "[[ True  True  True ...  True  True  True]\n",
      " [ True  True  True ...  True  True  True]\n",
      " [ True  True  True ...  True  True  True]\n",
      " ...\n",
      " [ True  True  True ...  True  True  True]\n",
      " [ True  True  True ...  True  True  True]\n",
      " [ True  True  True ...  True  True  True]]\n"
     ]
    }
   ],
   "source": [
    "image_path6 = r\"C:\\Users\\yixiu\\data_from_eosloan_reloc\\historical_data\\all_tiles_historical_resampled_500m\\output_folder\\output_20100413_combined\\output_20100413_combined.tif\"\n",
    "\n",
    "with rasterio.open(image_path6) as src:\n",
    "    mask6 = np.ones(src.shape, dtype=bool)\n",
    "\n",
    "print(mask6)"
   ]
  },
  {
   "cell_type": "markdown",
   "metadata": {},
   "source": [
    "### Combine all three masks"
   ]
  },
  {
   "cell_type": "code",
   "execution_count": null,
   "metadata": {},
   "outputs": [],
   "source": [
    "# original version (doesn't work)\n",
    "# def combine_masks(mask1, mask2, mask3):\n",
    "#     # Combine three binary masks using logical AND\n",
    "#     combined_mask = np.logical_and(np.logical_and(mask1, mask2), mask3)\n",
    "#     return combined_mask"
   ]
  },
  {
   "cell_type": "code",
   "execution_count": 14,
   "metadata": {},
   "outputs": [
    {
     "name": "stdout",
     "output_type": "stream",
     "text": [
      "(13869, 6038) (12379, 6195) (10720, 6078) (13869, 6038) (12378, 6195) (10719, 6078)\n"
     ]
    }
   ],
   "source": [
    "print(mask1.shape, mask2.shape, mask3.shape, mask4.shape, mask5.shape, mask6.shape)"
   ]
  },
  {
   "cell_type": "markdown",
   "metadata": {},
   "source": [
    "#### Step 1: determine the common shape"
   ]
  },
  {
   "cell_type": "code",
   "execution_count": 15,
   "metadata": {},
   "outputs": [],
   "source": [
    "shapes = [mask1.shape, mask2.shape, mask3.shape, mask4.shape, mask5.shape, mask6.shape]\n",
    "\n",
    "# Determine the maximum dimensions needed\n",
    "max_height = max(shape[0] for shape in shapes)\n",
    "max_width = max(shape[1] for shape in shapes)\n",
    "common_shape = (max_height, max_width)"
   ]
  },
  {
   "cell_type": "markdown",
   "metadata": {},
   "source": [
    "#### Step 2: pad each mask"
   ]
  },
  {
   "cell_type": "code",
   "execution_count": 16,
   "metadata": {},
   "outputs": [],
   "source": [
    "def pad_mask_to_common_shape(mask, common_shape):\n",
    "    \"\"\"Pad a mask to match the common shape.\"\"\"\n",
    "    # Calculate padding amounts\n",
    "    height_pad = common_shape[0] - mask.shape[0]\n",
    "    width_pad = common_shape[1] - mask.shape[1]\n",
    "    \n",
    "    # Apply symmetric padding. If odd padding, add the extra padding to the bottom/right\n",
    "    pad_height = (height_pad // 2, height_pad - height_pad // 2)\n",
    "    pad_width = (width_pad // 2, width_pad - width_pad // 2)\n",
    "    \n",
    "    # Pad the mask and return\n",
    "    return np.pad(mask, (pad_height, pad_width), 'constant', constant_values=0)\n",
    "\n",
    "# Pad each mask\n",
    "mask1_padded = pad_mask_to_common_shape(mask1, common_shape)\n",
    "mask2_padded = pad_mask_to_common_shape(mask2, common_shape)\n",
    "mask3_padded = pad_mask_to_common_shape(mask3, common_shape)\n",
    "mask4_padded = pad_mask_to_common_shape(mask4, common_shape)\n",
    "mask5_padded = pad_mask_to_common_shape(mask5, common_shape)\n",
    "mask6_padded = pad_mask_to_common_shape(mask6, common_shape)\n",
    "\n",
    "# stack and combine the masks\n",
    "stacked_masks = np.stack((mask1_padded, mask2_padded, mask3_padded, mask4_padded, mask5_padded, mask6_padded))\n",
    "combined_mask = np.logical_and.reduce(stacked_masks, axis=0)"
   ]
  },
  {
   "cell_type": "markdown",
   "metadata": {},
   "source": [
    "### Apply the combined mask"
   ]
  },
  {
   "cell_type": "code",
   "execution_count": null,
   "metadata": {},
   "outputs": [],
   "source": [
    "def apply_combined_mask(image_path, combined_mask):\n",
    "    with rasterio.open(image_path) as src:\n",
    "        image_data = src.read(1)\n",
    "\n",
    "        # Apply the combined binary mask\n",
    "        masked_data = np.where(combined_mask, image_data, 0)\n",
    "\n",
    "        return masked_data"
   ]
  },
  {
   "cell_type": "markdown",
   "metadata": {},
   "source": [
    "### Plot the original and the masked images"
   ]
  },
  {
   "cell_type": "code",
   "execution_count": null,
   "metadata": {},
   "outputs": [],
   "source": [
    "def plot_masked_image(image_path, masked_data):\n",
    "    with rasterio.open(image_path) as src:\n",
    "        fig, axes = plt.subplots(1, 2, figsize=(12, 6))\n",
    "\n",
    "        axes[0].imshow(src.read(1), cmap='gray')\n",
    "        axes[0].set_title('Original Image')\n",
    "\n",
    "        axes[1].imshow(masked_data, cmap='gray')\n",
    "        axes[1].set_title('Masked Image')\n",
    "\n",
    "        plt.show()"
   ]
  },
  {
   "cell_type": "code",
   "execution_count": null,
   "metadata": {},
   "outputs": [],
   "source": [
    "if __name__ == \"__main__\":\n",
    "    # Provide paths to your three raster images\n",
    "    image_path1 = \"C:\\Users\\yixiu\\data_from_eosloan_reloc\\historical_data\\all_tiles_historical_resampled_500m\\16bit_20060529_combined\\output_mosaic_20060529.tif\"\n",
    "    image_path2 = \"C:\\Users\\yixiu\\data_from_eosloan_reloc\\historical_data\\all_tiles_historical_resampled_500m\\16bit_20060529_combined\\output_mosaic_20080420.tif\"\n",
    "    image_path3 = \"C:\\Users\\yixiu\\data_from_eosloan_reloc\\historical_data\\all_tiles_historical_resampled_500m\\16bit_20060529_combined\\output_mosaic_20100413.tif\"\n",
    "\n",
    "    # Create binary masks for each image\n",
    "    mask1 = create_binary_mask(image_path1)\n",
    "    mask2 = create_binary_mask(image_path2)\n",
    "    mask3 = create_binary_mask(image_path3)\n",
    "\n",
    "    # Combine the masks to get the common overlapping area\n",
    "    combined_mask = combine_masks(mask1, mask2, mask3)\n",
    "\n",
    "    # Apply the combined mask to each image\n",
    "    masked_data1 = apply_combined_mask(image_path1, combined_mask)\n",
    "    masked_data2 = apply_combined_mask(image_path2, combined_mask)\n",
    "    masked_data3 = apply_combined_mask(image_path3, combined_mask)\n",
    "    \n",
    "    # Now, masked_data1, masked_data2, and masked_data3 contain the overlapping areas of the three images\n",
    "    \n",
    "    # Plot the original images and the masked images\n",
    "    plot_masked_image(image_path1, masked_data1)\n",
    "    plot_masked_image(image_path2, masked_data2)\n",
    "    plot_masked_image(image_path3, masked_data3)"
   ]
  }
 ],
 "metadata": {
  "kernelspec": {
   "display_name": "Python 3",
   "language": "python",
   "name": "python3"
  },
  "language_info": {
   "codemirror_mode": {
    "name": "ipython",
    "version": 3
   },
   "file_extension": ".py",
   "mimetype": "text/x-python",
   "name": "python",
   "nbconvert_exporter": "python",
   "pygments_lexer": "ipython3",
   "version": "3.11.3"
  }
 },
 "nbformat": 4,
 "nbformat_minor": 2
}

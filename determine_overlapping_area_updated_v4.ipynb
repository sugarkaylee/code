{
 "cells": [
  {
   "cell_type": "code",
   "execution_count": 1,
   "metadata": {},
   "outputs": [],
   "source": [
    "import os\n",
    "import glob\n",
    "import rasterio\n",
    "from rasterio.features import geometry_mask\n",
    "from shapely.geometry import shape\n",
    "import numpy as np\n",
    "import matplotlib.pyplot as plt\n",
    "from rasterio.merge import merge\n",
    "from rasterio.transform import from_origin\n",
    "from rasterio.plot import show\n",
    "from rasterio.transform import from_bounds"
   ]
  },
  {
   "cell_type": "markdown",
   "metadata": {},
   "source": [
    "## Merging all tif images into one tif image"
   ]
  },
  {
   "cell_type": "markdown",
   "metadata": {},
   "source": [
    "### Create the variable \"tif_paths\" that contain all image directories"
   ]
  },
  {
   "cell_type": "code",
   "execution_count": null,
   "metadata": {},
   "outputs": [],
   "source": [
    "# Folder containing GeoTIFF images\n",
    "folder_path = r\"C:\\Users\\yixiu\\data_from_eosloan_reloc\\historical_data\\all_tiles_historical_resampled_500m\\16bit_20060529\"\n",
    "\n",
    "# Define the search pattern for GeoTIFF files\n",
    "tif_pattern = os.path.join(folder_path, \"*.tif\")\n",
    "\n",
    "# Use glob to get a list of all GeoTIFF files in the folder\n",
    "tif_paths = glob.glob(tif_pattern)\n",
    "\n",
    "# Print the list of GeoTIFF paths\n",
    "for tif_path in tif_paths:\n",
    "    print(tif_path)"
   ]
  },
  {
   "cell_type": "markdown",
   "metadata": {},
   "source": [
    "### Merge all the images"
   ]
  },
  {
   "cell_type": "code",
   "execution_count": 5,
   "metadata": {},
   "outputs": [],
   "source": [
    "# Open all GeoTIFFs\n",
    "src_files_to_mosaic = [rasterio.open(path) for path in tif_paths]\n",
    "\n",
    "# Merge images\n",
    "mosaic, out_trans = merge(src_files_to_mosaic)\n",
    "\n",
    "# Create an output GeoTIFF\n",
    "out_meta = src_files_to_mosaic[0].meta.copy()\n",
    "out_meta.update({\"driver\": \"GTiff\",\n",
    "                 \"height\": mosaic.shape[1],\n",
    "                 \"width\": mosaic.shape[2],\n",
    "                 \"transform\": out_trans})\n",
    "\n",
    "# Write the mosaic to a new GeoTIFF file\n",
    "with rasterio.open(r\"C:\\Users\\yixiu\\data_from_eosloan_reloc\\historical_data\\all_tiles_historical_resampled_500m\\16bit_20060529_combined\\output_mosaic.tif\", \"w\", **out_meta) as dest:\n",
    "    dest.write(mosaic)"
   ]
  },
  {
   "cell_type": "markdown",
   "metadata": {},
   "source": [
    "### Merge 500m_resize_20080420_combined"
   ]
  },
  {
   "cell_type": "code",
   "execution_count": null,
   "metadata": {},
   "outputs": [],
   "source": [
    "# Folder containing GeoTIFF images\n",
    "folder_path_500m_resize_20080420 = r\"C:\\Users\\yixiu\\data_from_eosloan_reloc\\historical_data\\all_tiles_historical_resampled_500m\\500m_resize_20080420\"\n",
    "\n",
    "# Define the search pattern for GeoTIFF files\n",
    "tif_pattern_500m_resize_20080420 = os.path.join(folder_path_500m_resize_20080420, \"*.tif\")\n",
    "\n",
    "# Use glob to get a list of all GeoTIFF files in the folder\n",
    "tif_paths_500m_resize_20080420 = glob.glob(tif_pattern_500m_resize_20080420)\n",
    "\n",
    "# Print the list of GeoTIFF paths\n",
    "for tif_path in tif_paths_500m_resize_20080420:\n",
    "    print(tif_path)"
   ]
  },
  {
   "cell_type": "code",
   "execution_count": 5,
   "metadata": {},
   "outputs": [],
   "source": [
    "# Open all GeoTIFFs\n",
    "src_files_to_mosaic_500m_resize_20080420 = [rasterio.open(path) for path in tif_paths_500m_resize_20080420]\n",
    "\n",
    "# Merge images\n",
    "mosaic_500m_resize_20080420, out_trans_500m_resize_20080420 = merge(src_files_to_mosaic_500m_resize_20080420)\n",
    "\n",
    "# Create an output GeoTIFF\n",
    "out_meta_500m_resize_20080420 = src_files_to_mosaic_500m_resize_20080420[0].meta.copy()\n",
    "out_meta_500m_resize_20080420.update({\"driver\": \"GTiff\",\n",
    "                 \"height\": mosaic_500m_resize_20080420.shape[1],\n",
    "                 \"width\": mosaic_500m_resize_20080420.shape[2],\n",
    "                 \"transform\": out_trans_500m_resize_20080420})\n",
    "\n",
    "# Write the mosaic to a new GeoTIFF file\n",
    "with rasterio.open(r\"C:\\Users\\yixiu\\data_from_eosloan_reloc\\historical_data\\all_tiles_historical_resampled_500m\\500m_resize_20080420_combined\\500m_resize_20080420_combined.tif\", \"w\", **out_meta_500m_resize_20080420) as dest:\n",
    "    dest.write(mosaic_500m_resize_20080420)"
   ]
  },
  {
   "cell_type": "markdown",
   "metadata": {},
   "source": [
    "### Merge 500m_resize_20100413_combined"
   ]
  },
  {
   "cell_type": "code",
   "execution_count": null,
   "metadata": {},
   "outputs": [],
   "source": [
    "# Folder containing GeoTIFF images\n",
    "folder_path_500m_resize_20100413 = r\"C:\\Users\\yixiu\\data_from_eosloan_reloc\\historical_data\\all_tiles_historical_resampled_500m\\500m_resize_20100413\"\n",
    "\n",
    "# Define the search pattern for GeoTIFF files\n",
    "tif_pattern_500m_resize_20100413 = os.path.join(folder_path_500m_resize_20100413, \"*.tif\")\n",
    "\n",
    "# Use glob to get a list of all GeoTIFF files in the folder\n",
    "tif_paths_500m_resize_20100413 = glob.glob(tif_pattern_500m_resize_20100413)\n",
    "\n",
    "# Print the list of GeoTIFF paths\n",
    "for tif_path in tif_paths_500m_resize_20100413:\n",
    "    print(tif_path)"
   ]
  },
  {
   "cell_type": "code",
   "execution_count": 3,
   "metadata": {},
   "outputs": [],
   "source": [
    "# Open all GeoTIFFs\n",
    "src_files_to_mosaic_500m_resize_20100413 = [rasterio.open(path) for path in tif_paths_500m_resize_20100413]\n",
    "\n",
    "# Merge images\n",
    "mosaic_500m_resize_20100413, out_trans_500m_resize_20100413 = merge(src_files_to_mosaic_500m_resize_20100413)\n",
    "\n",
    "# Create an output GeoTIFF\n",
    "out_meta_500m_resize_20100413 = src_files_to_mosaic_500m_resize_20100413[0].meta.copy()\n",
    "out_meta_500m_resize_20100413.update({\"driver\": \"GTiff\",\n",
    "                 \"height\": mosaic_500m_resize_20100413.shape[1],\n",
    "                 \"width\": mosaic_500m_resize_20100413.shape[2],\n",
    "                 \"transform\": out_trans_500m_resize_20100413})\n",
    "\n",
    "# Write the mosaic to a new GeoTIFF file\n",
    "with rasterio.open(r\"C:\\Users\\yixiu\\data_from_eosloan_reloc\\historical_data\\all_tiles_historical_resampled_500m\\500m_resize_20100413_combined\\500m_resize_20100413_combined.tif\", \"w\", **out_meta_500m_resize_20100413) as dest:\n",
    "    dest.write(mosaic_500m_resize_20100413)"
   ]
  },
  {
   "cell_type": "markdown",
   "metadata": {},
   "source": [
    "### Merge output_20100413"
   ]
  },
  {
   "cell_type": "code",
   "execution_count": null,
   "metadata": {},
   "outputs": [],
   "source": [
    "# Folder containing GeoTIFF images\n",
    "folder_path_output_20100413 = r\"C:\\Users\\yixiu\\data_from_eosloan_reloc\\historical_data\\all_tiles_historical_resampled_500m\\output_20100413\"\n",
    "\n",
    "# Define the search pattern for GeoTIFF files\n",
    "tif_pattern_output_20100413 = os.path.join(folder_path_output_20100413, \"*.tif\")\n",
    "\n",
    "# Use glob to get a list of all GeoTIFF files in the folder\n",
    "tif_paths_output_20100413 = glob.glob(tif_pattern_output_20100413)\n",
    "\n",
    "# Print the list of GeoTIFF paths\n",
    "for tif_path in tif_paths_output_20100413:\n",
    "    print(tif_path)"
   ]
  },
  {
   "cell_type": "code",
   "execution_count": null,
   "metadata": {},
   "outputs": [],
   "source": [
    "# Open all GeoTIFFs\n",
    "src_files_to_mosaic_output_20100413 = [rasterio.open(path) for path in tif_paths_output_20100413]\n",
    "\n",
    "# Merge images\n",
    "mosaic_output_20100413, out_trans_output_20100413 = merge(src_files_to_mosaic_output_20100413)\n",
    "\n",
    "# Create an output GeoTIFF\n",
    "out_meta_output_20100413 = src_files_to_mosaic_output_20100413[0].meta.copy()\n",
    "out_meta_output_20100413.update({\"driver\": \"GTiff\",\n",
    "                 \"height\": mosaic_output_20100413.shape[1],\n",
    "                 \"width\": mosaic_output_20100413.shape[2],\n",
    "                 \"transform\": out_trans_output_20100413})\n",
    "\n",
    "# Write the mosaic to a new GeoTIFF file\n",
    "with rasterio.open(r\"C:\\Users\\yixiu\\data_from_eosloan_reloc\\historical_data\\all_tiles_historical_resampled_500m\\output_20100413_combined\\output_20100413_combined.tif\", \"w\", **out_meta_output_20100413) as dest:\n",
    "    dest.write(mosaic_output_20100413)"
   ]
  },
  {
   "cell_type": "markdown",
   "metadata": {},
   "source": [
    "## Determine overlapping area"
   ]
  },
  {
   "cell_type": "markdown",
   "metadata": {},
   "source": [
    "### Create the function to create binary mask"
   ]
  },
  {
   "cell_type": "code",
   "execution_count": null,
   "metadata": {},
   "outputs": [],
   "source": [
    "def create_binary_mask(image_path):\n",
    "    with rasterio.open(image_path) as src:\n",
    "        # Get the full geometry of the image\n",
    "        full_geometry = src.shape\n",
    "\n",
    "        # Create a binary mask for the entire image\n",
    "        mask = geometry_mask([full_geometry], transform=src.transform, invert=False, out_shape=src.shape, dtype='bool')\n",
    "        return mask"
   ]
  },
  {
   "cell_type": "code",
   "execution_count": null,
   "metadata": {},
   "outputs": [],
   "source": [
    "# original version (doesn't work)\n",
    "# image_path = r\"C:\\Users\\yixiu\\data_from_eosloan_reloc\\historical_data\\all_tiles_historical_resampled_500m\\500m_resize\\500m_resize_20060529_combined\\500m_resize_20060529_combined.tif\"\n",
    "# with rasterio.open(image_path) as src:\n",
    "#     # Get the full geometry of the image\n",
    "#     full_geometry = src.shape\n",
    "\n",
    "#     # Create a binary mask for the entire image\n",
    "#     mask = geometry_mask([full_geometry], transform=src.transform, invert=False, out_shape=src.shape, dtype='bool')"
   ]
  },
  {
   "cell_type": "markdown",
   "metadata": {},
   "source": [
    "#### corrected version"
   ]
  },
  {
   "cell_type": "code",
   "execution_count": 3,
   "metadata": {},
   "outputs": [
    {
     "name": "stdout",
     "output_type": "stream",
     "text": [
      "[[ True  True  True ...  True  True  True]\n",
      " [ True  True  True ...  True  True  True]\n",
      " [ True  True  True ...  True  True  True]\n",
      " ...\n",
      " [ True  True  True ...  True  True  True]\n",
      " [ True  True  True ...  True  True  True]\n",
      " [ True  True  True ...  True  True  True]]\n"
     ]
    }
   ],
   "source": [
    "image_path1 = r\"C:\\Users\\yixiu\\data_from_eosloan_reloc\\historical_data\\all_tiles_historical_resampled_500m\\500m_resize\\500m_resize_20060529_combined\\500m_resize_20060529_combined.tif\"\n",
    "\n",
    "with rasterio.open(image_path1) as src:\n",
    "    # Create an array of ones with the same shape as the image\n",
    "    # This creates a \"mask\" where every pixel is considered \"masked\" (value of 1)\n",
    "    # If you want the opposite (everything unmasked), you can use np.zeros instead of np.ones\n",
    "    mask1 = np.ones(src.shape, dtype=bool)\n",
    "\n",
    "# At this point, mask is a binary mask for the entire image, where every pixel is masked.\n",
    "\n",
    "print(mask1)"
   ]
  },
  {
   "cell_type": "code",
   "execution_count": 4,
   "metadata": {},
   "outputs": [
    {
     "name": "stdout",
     "output_type": "stream",
     "text": [
      "[[ True  True  True ...  True  True  True]\n",
      " [ True  True  True ...  True  True  True]\n",
      " [ True  True  True ...  True  True  True]\n",
      " ...\n",
      " [ True  True  True ...  True  True  True]\n",
      " [ True  True  True ...  True  True  True]\n",
      " [ True  True  True ...  True  True  True]]\n"
     ]
    }
   ],
   "source": [
    "image_path2 = r\"C:\\Users\\yixiu\\data_from_eosloan_reloc\\historical_data\\all_tiles_historical_resampled_500m\\500m_resize\\500m_resize_20080420_combined\\500m_resize_20080420_combined.tif\"\n",
    "\n",
    "with rasterio.open(image_path2) as src:\n",
    "    mask2 = np.ones(src.shape, dtype=bool)\n",
    "\n",
    "print(mask2)"
   ]
  },
  {
   "cell_type": "code",
   "execution_count": 5,
   "metadata": {},
   "outputs": [
    {
     "name": "stdout",
     "output_type": "stream",
     "text": [
      "[[ True  True  True ...  True  True  True]\n",
      " [ True  True  True ...  True  True  True]\n",
      " [ True  True  True ...  True  True  True]\n",
      " ...\n",
      " [ True  True  True ...  True  True  True]\n",
      " [ True  True  True ...  True  True  True]\n",
      " [ True  True  True ...  True  True  True]]\n"
     ]
    }
   ],
   "source": [
    "image_path3 = r\"C:\\Users\\yixiu\\data_from_eosloan_reloc\\historical_data\\all_tiles_historical_resampled_500m\\500m_resize\\500m_resize_20100413_combined\\500m_resize_20100413_combined.tif\"\n",
    "\n",
    "with rasterio.open(image_path3) as src:\n",
    "    mask3 = np.ones(src.shape, dtype=bool)\n",
    "\n",
    "print(mask3)"
   ]
  },
  {
   "cell_type": "code",
   "execution_count": 6,
   "metadata": {},
   "outputs": [
    {
     "name": "stdout",
     "output_type": "stream",
     "text": [
      "[[ True  True  True ...  True  True  True]\n",
      " [ True  True  True ...  True  True  True]\n",
      " [ True  True  True ...  True  True  True]\n",
      " ...\n",
      " [ True  True  True ...  True  True  True]\n",
      " [ True  True  True ...  True  True  True]\n",
      " [ True  True  True ...  True  True  True]]\n"
     ]
    }
   ],
   "source": [
    "image_path4 = r\"C:\\Users\\yixiu\\data_from_eosloan_reloc\\historical_data\\all_tiles_historical_resampled_500m\\output_folder\\output_20060529_combined\\output_20060529_combined.tif\"\n",
    "\n",
    "with rasterio.open(image_path4) as src:\n",
    "    mask4 = np.ones(src.shape, dtype=bool)\n",
    "\n",
    "print(mask4)"
   ]
  },
  {
   "cell_type": "code",
   "execution_count": 7,
   "metadata": {},
   "outputs": [
    {
     "name": "stdout",
     "output_type": "stream",
     "text": [
      "[[ True  True  True ...  True  True  True]\n",
      " [ True  True  True ...  True  True  True]\n",
      " [ True  True  True ...  True  True  True]\n",
      " ...\n",
      " [ True  True  True ...  True  True  True]\n",
      " [ True  True  True ...  True  True  True]\n",
      " [ True  True  True ...  True  True  True]]\n"
     ]
    }
   ],
   "source": [
    "image_path5 = r\"C:\\Users\\yixiu\\data_from_eosloan_reloc\\historical_data\\all_tiles_historical_resampled_500m\\output_folder\\output_20080420_combined\\output_20080420_combined.tif\"\n",
    "\n",
    "with rasterio.open(image_path5) as src:\n",
    "    mask5 = np.ones(src.shape, dtype=bool)\n",
    "\n",
    "print(mask5)"
   ]
  },
  {
   "cell_type": "code",
   "execution_count": 8,
   "metadata": {},
   "outputs": [
    {
     "name": "stdout",
     "output_type": "stream",
     "text": [
      "[[ True  True  True ...  True  True  True]\n",
      " [ True  True  True ...  True  True  True]\n",
      " [ True  True  True ...  True  True  True]\n",
      " ...\n",
      " [ True  True  True ...  True  True  True]\n",
      " [ True  True  True ...  True  True  True]\n",
      " [ True  True  True ...  True  True  True]]\n"
     ]
    }
   ],
   "source": [
    "image_path6 = r\"C:\\Users\\yixiu\\data_from_eosloan_reloc\\historical_data\\all_tiles_historical_resampled_500m\\output_folder\\output_20100413_combined\\output_20100413_combined.tif\"\n",
    "\n",
    "with rasterio.open(image_path6) as src:\n",
    "    mask6 = np.ones(src.shape, dtype=bool)\n",
    "\n",
    "print(mask6)"
   ]
  },
  {
   "cell_type": "markdown",
   "metadata": {},
   "source": [
    "### Combine all three masks"
   ]
  },
  {
   "cell_type": "code",
   "execution_count": null,
   "metadata": {},
   "outputs": [],
   "source": [
    "# original version (doesn't work)\n",
    "# def combine_masks(mask1, mask2, mask3):\n",
    "#     # Combine three binary masks using logical AND\n",
    "#     combined_mask = np.logical_and(np.logical_and(mask1, mask2), mask3)\n",
    "#     return combined_mask"
   ]
  },
  {
   "cell_type": "code",
   "execution_count": 9,
   "metadata": {},
   "outputs": [
    {
     "name": "stdout",
     "output_type": "stream",
     "text": [
      "(13869, 6038) (12379, 6195) (10720, 6078) (13869, 6038) (12378, 6195) (10719, 6078)\n"
     ]
    }
   ],
   "source": [
    "print(mask1.shape, mask2.shape, mask3.shape, mask4.shape, mask5.shape, mask6.shape)"
   ]
  },
  {
   "cell_type": "markdown",
   "metadata": {},
   "source": [
    "#### no geographical information was considered"
   ]
  },
  {
   "cell_type": "code",
   "execution_count": 15,
   "metadata": {},
   "outputs": [],
   "source": [
    "# Step 1: determine the common shape\n",
    "\n",
    "shapes = [mask1.shape, mask2.shape, mask3.shape, mask4.shape, mask5.shape, mask6.shape]\n",
    "\n",
    "# Determine the maximum dimensions needed\n",
    "max_height = max(shape[0] for shape in shapes)\n",
    "max_width = max(shape[1] for shape in shapes)\n",
    "common_shape = (max_height, max_width)\n",
    "\n",
    "# Step 2: pad each mask\n",
    "\n",
    "def pad_mask_to_common_shape(mask, common_shape):\n",
    "    \"\"\"Pad a mask to match the common shape.\"\"\"\n",
    "    # Calculate padding amounts\n",
    "    height_pad = common_shape[0] - mask.shape[0]\n",
    "    width_pad = common_shape[1] - mask.shape[1]\n",
    "    \n",
    "    # Apply symmetric padding. If odd padding, add the extra padding to the bottom/right\n",
    "    pad_height = (height_pad // 2, height_pad - height_pad // 2)\n",
    "    pad_width = (width_pad // 2, width_pad - width_pad // 2)\n",
    "    \n",
    "    # Pad the mask and return\n",
    "    return np.pad(mask, (pad_height, pad_width), 'constant', constant_values=0)\n",
    "\n",
    "# Pad each mask\n",
    "mask1_padded = pad_mask_to_common_shape(mask1, common_shape)\n",
    "mask2_padded = pad_mask_to_common_shape(mask2, common_shape)\n",
    "mask3_padded = pad_mask_to_common_shape(mask3, common_shape)\n",
    "mask4_padded = pad_mask_to_common_shape(mask4, common_shape)\n",
    "mask5_padded = pad_mask_to_common_shape(mask5, common_shape)\n",
    "mask6_padded = pad_mask_to_common_shape(mask6, common_shape)\n",
    "\n",
    "# stack and combine the masks\n",
    "stacked_masks = np.stack((mask1_padded, mask2_padded, mask3_padded, mask4_padded, mask5_padded, mask6_padded))\n",
    "combined_mask = np.logical_and.reduce(stacked_masks, axis=0)"
   ]
  },
  {
   "cell_type": "markdown",
   "metadata": {},
   "source": [
    "#### add consideration of geographical information"
   ]
  },
  {
   "cell_type": "code",
   "execution_count": 15,
   "metadata": {},
   "outputs": [
    {
     "data": {
      "text/plain": [
       "(689046.4, 3149763.1112668808, 722630.596517494, 3191370.5626582373)"
      ]
     },
     "execution_count": 15,
     "metadata": {},
     "output_type": "execute_result"
    }
   ],
   "source": [
    "# Assuming you have a list of file paths to your geospatial raster datasets\n",
    "raster_files = glob.glob(r'C:\\Users\\yixiu\\data_from_eosloan_reloc\\historical_data\\all_tiles_historical_resampled_500m\\raster_files\\*.tif')\n",
    "\n",
    "# Open all the raster files and store them in a list\n",
    "rasters = [rasterio.open(fp) for fp in raster_files]\n",
    "\n",
    "# Calculate the combined bounding box\n",
    "min_x, min_y, max_x, max_y = float('inf'), float('inf'), float('-inf'), float('-inf')\n",
    "for raster in rasters:\n",
    "    # Update the min/max coordinates based on each raster\n",
    "    r_min_x, r_min_y, r_max_x, r_max_y = raster.bounds\n",
    "    min_x = min(min_x, r_min_x)\n",
    "    min_y = min(min_y, r_min_y)\n",
    "    max_x = max(max_x, r_max_x)\n",
    "    max_y = max(max_y, r_max_y)\n",
    "\n",
    "min_x, min_y, max_x, max_y"
   ]
  },
  {
   "cell_type": "code",
   "execution_count": 29,
   "metadata": {},
   "outputs": [
    {
     "data": {
      "text/plain": [
       "(689046.4, 3149763.1112668808, 722630.596517494, 3191370.5626582373)"
      ]
     },
     "execution_count": 29,
     "metadata": {},
     "output_type": "execute_result"
    }
   ],
   "source": [
    "# Define the file paths for all six images\n",
    "image_paths = [\n",
    "    r\"C:\\Users\\yixiu\\data_from_eosloan_reloc\\historical_data\\all_tiles_historical_resampled_500m\\500m_resize\\500m_resize_20060529_combined\\500m_resize_20060529_combined.tif\",\n",
    "    r\"C:\\Users\\yixiu\\data_from_eosloan_reloc\\historical_data\\all_tiles_historical_resampled_500m\\500m_resize\\500m_resize_20080420_combined\\500m_resize_20080420_combined.tif\",\n",
    "    r\"C:\\Users\\yixiu\\data_from_eosloan_reloc\\historical_data\\all_tiles_historical_resampled_500m\\500m_resize\\500m_resize_20100413_combined\\500m_resize_20100413_combined.tif\",\n",
    "    r\"C:\\Users\\yixiu\\data_from_eosloan_reloc\\historical_data\\all_tiles_historical_resampled_500m\\output_folder\\output_20060529_combined\\output_20060529_combined.tif\",\n",
    "    r\"C:\\Users\\yixiu\\data_from_eosloan_reloc\\historical_data\\all_tiles_historical_resampled_500m\\output_folder\\output_20080420_combined\\output_20080420_combined.tif\",\n",
    "    r\"C:\\Users\\yixiu\\data_from_eosloan_reloc\\historical_data\\all_tiles_historical_resampled_500m\\output_folder\\output_20100413_combined\\output_20100413_combined.tif\"\n",
    "]\n",
    "\n",
    "# Open each raster file and define src1 to src6\n",
    "src1 = rasterio.open(image_paths[0])\n",
    "src2 = rasterio.open(image_paths[1])\n",
    "src3 = rasterio.open(image_paths[2])\n",
    "src4 = rasterio.open(image_paths[3])\n",
    "src5 = rasterio.open(image_paths[4])\n",
    "src6 = rasterio.open(image_paths[5])\n",
    "\n",
    "# Calculate the common bounding box\n",
    "min_x2 = min(src.bounds.left for src in [src1, src2, src3, src4, src5, src6])\n",
    "min_y2 = min(src.bounds.bottom for src in [src1, src2, src3, src4, src5, src6])\n",
    "max_x2 = max(src.bounds.right for src in [src1, src2, src3, src4, src5, src6])\n",
    "max_y2 = max(src.bounds.top for src in [src1, src2, src3, src4, src5, src6])\n",
    "\n",
    "min_x2, min_y2, max_x2, max_y2"
   ]
  },
  {
   "cell_type": "markdown",
   "metadata": {},
   "source": [
    "#### Spatially aware padding"
   ]
  },
  {
   "cell_type": "code",
   "execution_count": 3,
   "metadata": {},
   "outputs": [],
   "source": [
    "# Load each image and create masks\n",
    "image_paths = [\n",
    "    r\"C:\\Users\\yixiu\\data_from_eosloan_reloc\\historical_data\\all_tiles_historical_resampled_500m\\500m_resize\\500m_resize_20060529_combined\\500m_resize_20060529_combined.tif\",\n",
    "    r\"C:\\Users\\yixiu\\data_from_eosloan_reloc\\historical_data\\all_tiles_historical_resampled_500m\\500m_resize\\500m_resize_20080420_combined\\500m_resize_20080420_combined.tif\",\n",
    "    r\"C:\\Users\\yixiu\\data_from_eosloan_reloc\\historical_data\\all_tiles_historical_resampled_500m\\500m_resize\\500m_resize_20100413_combined\\500m_resize_20100413_combined.tif\",\n",
    "    r\"C:\\Users\\yixiu\\data_from_eosloan_reloc\\historical_data\\all_tiles_historical_resampled_500m\\output_folder\\output_20060529_combined\\output_20060529_combined.tif\",\n",
    "    r\"C:\\Users\\yixiu\\data_from_eosloan_reloc\\historical_data\\all_tiles_historical_resampled_500m\\output_folder\\output_20080420_combined\\output_20080420_combined.tif\",\n",
    "    r\"C:\\Users\\yixiu\\data_from_eosloan_reloc\\historical_data\\all_tiles_historical_resampled_500m\\output_folder\\output_20100413_combined\\output_20100413_combined.tif\"\n",
    "]\n",
    "\n",
    "masks = []\n",
    "srcs = []"
   ]
  },
  {
   "cell_type": "code",
   "execution_count": 4,
   "metadata": {},
   "outputs": [
    {
     "data": {
      "text/plain": [
       "(689046.4, 3149763.1112668808, 722630.596517494, 3191370.5626582373)"
      ]
     },
     "execution_count": 4,
     "metadata": {},
     "output_type": "execute_result"
    }
   ],
   "source": [
    "# Load each image and create mask\n",
    "for image_path in image_paths:\n",
    "    with rasterio.open(image_path) as src:\n",
    "        srcs.append(src)\n",
    "        mask = np.ones(src.shape, dtype=bool)\n",
    "        masks.append(mask)\n",
    "\n",
    "# Determine the common bounding box\n",
    "min_x = min(src.bounds.left for src in srcs)\n",
    "min_y= min(src.bounds.bottom for src in srcs)\n",
    "max_x = max(src.bounds.right for src in srcs)\n",
    "max_y = max(src.bounds.top for src in srcs)\n",
    "min_x, min_y, max_x, max_y"
   ]
  },
  {
   "cell_type": "code",
   "execution_count": 5,
   "metadata": {},
   "outputs": [
    {
     "data": {
      "text/plain": [
       "(124843, 100769)"
      ]
     },
     "execution_count": 5,
     "metadata": {},
     "output_type": "execute_result"
    }
   ],
   "source": [
    "# Calculate the dimensions of the common bounding box\n",
    "common_height = int(src.res[0] * (max_y - min_y))\n",
    "common_width = int(src.res[1] * (max_x - min_x))\n",
    "common_height, common_width"
   ]
  },
  {
   "cell_type": "code",
   "execution_count": 6,
   "metadata": {},
   "outputs": [
    {
     "ename": "MemoryError",
     "evalue": "Unable to allocate 11.7 GiB for an array with shape (124843, 100769) and data type bool",
     "output_type": "error",
     "traceback": [
      "\u001b[1;31m---------------------------------------------------------------------------\u001b[0m",
      "\u001b[1;31mMemoryError\u001b[0m                               Traceback (most recent call last)",
      "Cell \u001b[1;32mIn[6], line 10\u001b[0m\n\u001b[0;32m      7\u001b[0m bottom_pad \u001b[38;5;241m=\u001b[39m common_height \u001b[38;5;241m-\u001b[39m (mask\u001b[38;5;241m.\u001b[39mshape[\u001b[38;5;241m0\u001b[39m] \u001b[38;5;241m+\u001b[39m top_pad)\n\u001b[0;32m      9\u001b[0m \u001b[38;5;66;03m# Apply padding to the mask\u001b[39;00m\n\u001b[1;32m---> 10\u001b[0m padded_mask \u001b[38;5;241m=\u001b[39m \u001b[43mnp\u001b[49m\u001b[38;5;241;43m.\u001b[39;49m\u001b[43mpad\u001b[49m\u001b[43m(\u001b[49m\u001b[43mmask\u001b[49m\u001b[43m,\u001b[49m\u001b[43m \u001b[49m\u001b[43m(\u001b[49m\u001b[43m(\u001b[49m\u001b[43mtop_pad\u001b[49m\u001b[43m,\u001b[49m\u001b[43m \u001b[49m\u001b[43mbottom_pad\u001b[49m\u001b[43m)\u001b[49m\u001b[43m,\u001b[49m\u001b[43m \u001b[49m\u001b[43m(\u001b[49m\u001b[43mleft_pad\u001b[49m\u001b[43m,\u001b[49m\u001b[43m \u001b[49m\u001b[43mright_pad\u001b[49m\u001b[43m)\u001b[49m\u001b[43m)\u001b[49m\u001b[43m,\u001b[49m\u001b[43m \u001b[49m\u001b[43mmode\u001b[49m\u001b[38;5;241;43m=\u001b[39;49m\u001b[38;5;124;43m'\u001b[39;49m\u001b[38;5;124;43mconstant\u001b[39;49m\u001b[38;5;124;43m'\u001b[39;49m\u001b[43m,\u001b[49m\u001b[43m \u001b[49m\u001b[43mconstant_values\u001b[49m\u001b[38;5;241;43m=\u001b[39;49m\u001b[38;5;241;43m0\u001b[39;49m\u001b[43m)\u001b[49m\n\u001b[0;32m     11\u001b[0m padded_masks\u001b[38;5;241m.\u001b[39mappend(padded_mask)\n",
      "File \u001b[1;32m<__array_function__ internals>:200\u001b[0m, in \u001b[0;36mpad\u001b[1;34m(*args, **kwargs)\u001b[0m\n",
      "File \u001b[1;32mc:\\Users\\yixiu\\AppData\\Local\\Programs\\Python\\Python311\\Lib\\site-packages\\numpy\\lib\\arraypad.py:794\u001b[0m, in \u001b[0;36mpad\u001b[1;34m(array, pad_width, mode, **kwargs)\u001b[0m\n\u001b[0;32m    789\u001b[0m stat_functions \u001b[38;5;241m=\u001b[39m {\u001b[38;5;124m\"\u001b[39m\u001b[38;5;124mmaximum\u001b[39m\u001b[38;5;124m\"\u001b[39m: np\u001b[38;5;241m.\u001b[39mamax, \u001b[38;5;124m\"\u001b[39m\u001b[38;5;124mminimum\u001b[39m\u001b[38;5;124m\"\u001b[39m: np\u001b[38;5;241m.\u001b[39mamin,\n\u001b[0;32m    790\u001b[0m                   \u001b[38;5;124m\"\u001b[39m\u001b[38;5;124mmean\u001b[39m\u001b[38;5;124m\"\u001b[39m: np\u001b[38;5;241m.\u001b[39mmean, \u001b[38;5;124m\"\u001b[39m\u001b[38;5;124mmedian\u001b[39m\u001b[38;5;124m\"\u001b[39m: np\u001b[38;5;241m.\u001b[39mmedian}\n\u001b[0;32m    792\u001b[0m \u001b[38;5;66;03m# Create array with final shape and original values\u001b[39;00m\n\u001b[0;32m    793\u001b[0m \u001b[38;5;66;03m# (padded area is undefined)\u001b[39;00m\n\u001b[1;32m--> 794\u001b[0m padded, original_area_slice \u001b[38;5;241m=\u001b[39m \u001b[43m_pad_simple\u001b[49m\u001b[43m(\u001b[49m\u001b[43marray\u001b[49m\u001b[43m,\u001b[49m\u001b[43m \u001b[49m\u001b[43mpad_width\u001b[49m\u001b[43m)\u001b[49m\n\u001b[0;32m    795\u001b[0m \u001b[38;5;66;03m# And prepare iteration over all dimensions\u001b[39;00m\n\u001b[0;32m    796\u001b[0m \u001b[38;5;66;03m# (zipping may be more readable than using enumerate)\u001b[39;00m\n\u001b[0;32m    797\u001b[0m axes \u001b[38;5;241m=\u001b[39m \u001b[38;5;28mrange\u001b[39m(padded\u001b[38;5;241m.\u001b[39mndim)\n",
      "File \u001b[1;32mc:\\Users\\yixiu\\AppData\\Local\\Programs\\Python\\Python311\\Lib\\site-packages\\numpy\\lib\\arraypad.py:114\u001b[0m, in \u001b[0;36m_pad_simple\u001b[1;34m(array, pad_width, fill_value)\u001b[0m\n\u001b[0;32m    109\u001b[0m new_shape \u001b[38;5;241m=\u001b[39m \u001b[38;5;28mtuple\u001b[39m(\n\u001b[0;32m    110\u001b[0m     left \u001b[38;5;241m+\u001b[39m size \u001b[38;5;241m+\u001b[39m right\n\u001b[0;32m    111\u001b[0m     \u001b[38;5;28;01mfor\u001b[39;00m size, (left, right) \u001b[38;5;129;01min\u001b[39;00m \u001b[38;5;28mzip\u001b[39m(array\u001b[38;5;241m.\u001b[39mshape, pad_width)\n\u001b[0;32m    112\u001b[0m )\n\u001b[0;32m    113\u001b[0m order \u001b[38;5;241m=\u001b[39m \u001b[38;5;124m'\u001b[39m\u001b[38;5;124mF\u001b[39m\u001b[38;5;124m'\u001b[39m \u001b[38;5;28;01mif\u001b[39;00m array\u001b[38;5;241m.\u001b[39mflags\u001b[38;5;241m.\u001b[39mfnc \u001b[38;5;28;01melse\u001b[39;00m \u001b[38;5;124m'\u001b[39m\u001b[38;5;124mC\u001b[39m\u001b[38;5;124m'\u001b[39m  \u001b[38;5;66;03m# Fortran and not also C-order\u001b[39;00m\n\u001b[1;32m--> 114\u001b[0m padded \u001b[38;5;241m=\u001b[39m \u001b[43mnp\u001b[49m\u001b[38;5;241;43m.\u001b[39;49m\u001b[43mempty\u001b[49m\u001b[43m(\u001b[49m\u001b[43mnew_shape\u001b[49m\u001b[43m,\u001b[49m\u001b[43m \u001b[49m\u001b[43mdtype\u001b[49m\u001b[38;5;241;43m=\u001b[39;49m\u001b[43marray\u001b[49m\u001b[38;5;241;43m.\u001b[39;49m\u001b[43mdtype\u001b[49m\u001b[43m,\u001b[49m\u001b[43m \u001b[49m\u001b[43morder\u001b[49m\u001b[38;5;241;43m=\u001b[39;49m\u001b[43morder\u001b[49m\u001b[43m)\u001b[49m\n\u001b[0;32m    116\u001b[0m \u001b[38;5;28;01mif\u001b[39;00m fill_value \u001b[38;5;129;01mis\u001b[39;00m \u001b[38;5;129;01mnot\u001b[39;00m \u001b[38;5;28;01mNone\u001b[39;00m:\n\u001b[0;32m    117\u001b[0m     padded\u001b[38;5;241m.\u001b[39mfill(fill_value)\n",
      "\u001b[1;31mMemoryError\u001b[0m: Unable to allocate 11.7 GiB for an array with shape (124843, 100769) and data type bool"
     ]
    }
   ],
   "source": [
    "# Calculate padding required for each mask\n",
    "padded_masks = []\n",
    "for mask, src in zip(masks, srcs):\n",
    "    left_pad = int((src.bounds.left - min_x) / src.res[0])\n",
    "    top_pad = int((max_y - src.bounds.top) / src.res[1])\n",
    "    right_pad = common_width - (mask.shape[1] + left_pad)\n",
    "    bottom_pad = common_height - (mask.shape[0] + top_pad)\n",
    "    \n",
    "    # Apply padding to the mask\n",
    "    padded_mask = np.pad(mask, ((top_pad, bottom_pad), (left_pad, right_pad)), mode='constant', constant_values=0)\n",
    "    padded_masks.append(padded_mask)"
   ]
  },
  {
   "cell_type": "code",
   "execution_count": null,
   "metadata": {},
   "outputs": [],
   "source": [
    "# Loop over each raster\n",
    "for i, raster in enumerate(rasters):\n",
    "    # Get the current raster's bounds\n",
    "    r_min_x, r_min_y, r_max_x, r_max_y = raster.bounds\n",
    "    \n",
    "    # Calculate the padding amounts\n",
    "    left_pad = min_x - r_min_x\n",
    "    right_pad = max_x - r_max_x\n",
    "    top_pad = max_y - r_max_y\n",
    "    bottom_pad = min_y - r_min_y\n",
    "    \n",
    "    # Update the transform to include padding\n",
    "    padded_transform = from_bounds(min_x - left_pad, min_y - bottom_pad, max_x + right_pad, max_y + top_pad, common_width, common_height)\n",
    "    \n",
    "    # Pad the raster\n",
    "    padded_data = raster.read(1)  # Assuming a single band raster\n",
    "    padded_data, padded_transform = rasterio.pad(padded_data, padded_transform, pad_width=((top_pad, bottom_pad), (left_pad, right_pad)), mode='constant', constant_values=0)\n",
    "    \n",
    "    # Update the raster metadata with padded shape and transform\n",
    "    profile = raster.profile\n",
    "    profile.update(height=padded_data.shape[0], width=padded_data.shape[1], transform=padded_transform)\n",
    "    \n",
    "    # Save the padded raster to a new file\n",
    "    output_file = f'padded_raster_{i}.tif'  # Adjust output file name as needed\n",
    "    with rasterio.open(output_file, 'w', **profile) as dst:\n",
    "        dst.write(padded_data, 1)\n"
   ]
  },
  {
   "cell_type": "markdown",
   "metadata": {},
   "source": [
    "### Apply the combined mask"
   ]
  },
  {
   "cell_type": "code",
   "execution_count": null,
   "metadata": {},
   "outputs": [],
   "source": [
    "def apply_combined_mask(image_path, combined_mask):\n",
    "    with rasterio.open(image_path) as src:\n",
    "        image_data = src.read(1)\n",
    "\n",
    "        # Apply the combined binary mask\n",
    "        masked_data = np.where(combined_mask, image_data, 0)\n",
    "\n",
    "        return masked_data"
   ]
  },
  {
   "cell_type": "markdown",
   "metadata": {},
   "source": [
    "### Plot the original and the masked images"
   ]
  },
  {
   "cell_type": "code",
   "execution_count": null,
   "metadata": {},
   "outputs": [],
   "source": [
    "def plot_masked_image(image_path, masked_data):\n",
    "    with rasterio.open(image_path) as src:\n",
    "        fig, axes = plt.subplots(1, 2, figsize=(12, 6))\n",
    "\n",
    "        axes[0].imshow(src.read(1), cmap='gray')\n",
    "        axes[0].set_title('Original Image')\n",
    "\n",
    "        axes[1].imshow(masked_data, cmap='gray')\n",
    "        axes[1].set_title('Masked Image')\n",
    "\n",
    "        plt.show()"
   ]
  },
  {
   "cell_type": "code",
   "execution_count": null,
   "metadata": {},
   "outputs": [],
   "source": [
    "if __name__ == \"__main__\":\n",
    "    # Provide paths to your three raster images\n",
    "    image_path1 = \"C:\\Users\\yixiu\\data_from_eosloan_reloc\\historical_data\\all_tiles_historical_resampled_500m\\16bit_20060529_combined\\output_mosaic_20060529.tif\"\n",
    "    image_path2 = \"C:\\Users\\yixiu\\data_from_eosloan_reloc\\historical_data\\all_tiles_historical_resampled_500m\\16bit_20060529_combined\\output_mosaic_20080420.tif\"\n",
    "    image_path3 = \"C:\\Users\\yixiu\\data_from_eosloan_reloc\\historical_data\\all_tiles_historical_resampled_500m\\16bit_20060529_combined\\output_mosaic_20100413.tif\"\n",
    "\n",
    "    # Create binary masks for each image\n",
    "    mask1 = create_binary_mask(image_path1)\n",
    "    mask2 = create_binary_mask(image_path2)\n",
    "    mask3 = create_binary_mask(image_path3)\n",
    "\n",
    "    # Combine the masks to get the common overlapping area\n",
    "    combined_mask = combine_masks(mask1, mask2, mask3)\n",
    "\n",
    "    # Apply the combined mask to each image\n",
    "    masked_data1 = apply_combined_mask(image_path1, combined_mask)\n",
    "    masked_data2 = apply_combined_mask(image_path2, combined_mask)\n",
    "    masked_data3 = apply_combined_mask(image_path3, combined_mask)\n",
    "    \n",
    "    # Now, masked_data1, masked_data2, and masked_data3 contain the overlapping areas of the three images\n",
    "    \n",
    "    # Plot the original images and the masked images\n",
    "    plot_masked_image(image_path1, masked_data1)\n",
    "    plot_masked_image(image_path2, masked_data2)\n",
    "    plot_masked_image(image_path3, masked_data3)"
   ]
  }
 ],
 "metadata": {
  "kernelspec": {
   "display_name": "Python 3",
   "language": "python",
   "name": "python3"
  },
  "language_info": {
   "codemirror_mode": {
    "name": "ipython",
    "version": 3
   },
   "file_extension": ".py",
   "mimetype": "text/x-python",
   "name": "python",
   "nbconvert_exporter": "python",
   "pygments_lexer": "ipython3",
   "version": "3.11.3"
  }
 },
 "nbformat": 4,
 "nbformat_minor": 2
}

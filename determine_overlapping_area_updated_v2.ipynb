{
 "cells": [
  {
   "cell_type": "code",
   "execution_count": 3,
   "metadata": {},
   "outputs": [],
   "source": [
    "import os\n",
    "import glob\n",
    "import rasterio\n",
    "from rasterio.features import geometry_mask\n",
    "from shapely.geometry import shape\n",
    "import numpy as np\n",
    "import matplotlib.pyplot as plt\n",
    "from rasterio.merge import merge\n",
    "from rasterio.transform import from_origin"
   ]
  },
  {
   "cell_type": "markdown",
   "metadata": {},
   "source": [
    "## Merging all tif images into one tif image"
   ]
  },
  {
   "cell_type": "markdown",
   "metadata": {},
   "source": [
    "### Create the variable \"tif_paths\" that contain all image directories"
   ]
  },
  {
   "cell_type": "code",
   "execution_count": null,
   "metadata": {},
   "outputs": [],
   "source": [
    "# Folder containing GeoTIFF images\n",
    "folder_path = r\"C:\\Users\\yixiu\\data_from_eosloan_reloc\\historical_data\\all_tiles_historical_resampled_500m\\16bit_20060529\"\n",
    "\n",
    "# Define the search pattern for GeoTIFF files\n",
    "tif_pattern = os.path.join(folder_path, \"*.tif\")\n",
    "\n",
    "# Use glob to get a list of all GeoTIFF files in the folder\n",
    "tif_paths = glob.glob(tif_pattern)\n",
    "\n",
    "# Print the list of GeoTIFF paths\n",
    "for tif_path in tif_paths:\n",
    "    print(tif_path)"
   ]
  },
  {
   "cell_type": "markdown",
   "metadata": {},
   "source": [
    "### Merge all the images"
   ]
  },
  {
   "cell_type": "code",
   "execution_count": 5,
   "metadata": {},
   "outputs": [],
   "source": [
    "# Open all GeoTIFFs\n",
    "src_files_to_mosaic = [rasterio.open(path) for path in tif_paths]\n",
    "\n",
    "# Merge images\n",
    "mosaic, out_trans = merge(src_files_to_mosaic)\n",
    "\n",
    "# Create an output GeoTIFF\n",
    "out_meta = src_files_to_mosaic[0].meta.copy()\n",
    "out_meta.update({\"driver\": \"GTiff\",\n",
    "                 \"height\": mosaic.shape[1],\n",
    "                 \"width\": mosaic.shape[2],\n",
    "                 \"transform\": out_trans})\n",
    "\n",
    "# Write the mosaic to a new GeoTIFF file\n",
    "with rasterio.open(r\"C:\\Users\\yixiu\\data_from_eosloan_reloc\\historical_data\\all_tiles_historical_resampled_500m\\16bit_20060529_combined\\output_mosaic.tif\", \"w\", **out_meta) as dest:\n",
    "    dest.write(mosaic)"
   ]
  },
  {
   "cell_type": "markdown",
   "metadata": {},
   "source": [
    "### Merge 500m_resize_20080420_combined"
   ]
  },
  {
   "cell_type": "code",
   "execution_count": null,
   "metadata": {},
   "outputs": [],
   "source": [
    "# Folder containing GeoTIFF images\n",
    "folder_path_500m_resize_20080420 = r\"C:\\Users\\yixiu\\data_from_eosloan_reloc\\historical_data\\all_tiles_historical_resampled_500m\\500m_resize_20080420\"\n",
    "\n",
    "# Define the search pattern for GeoTIFF files\n",
    "tif_pattern_500m_resize_20080420 = os.path.join(folder_path_500m_resize_20080420, \"*.tif\")\n",
    "\n",
    "# Use glob to get a list of all GeoTIFF files in the folder\n",
    "tif_paths_500m_resize_20080420 = glob.glob(tif_pattern_500m_resize_20080420)\n",
    "\n",
    "# Print the list of GeoTIFF paths\n",
    "for tif_path in tif_paths_500m_resize_20080420:\n",
    "    print(tif_path)"
   ]
  },
  {
   "cell_type": "code",
   "execution_count": 5,
   "metadata": {},
   "outputs": [],
   "source": [
    "# Open all GeoTIFFs\n",
    "src_files_to_mosaic_500m_resize_20080420 = [rasterio.open(path) for path in tif_paths_500m_resize_20080420]\n",
    "\n",
    "# Merge images\n",
    "mosaic_500m_resize_20080420, out_trans_500m_resize_20080420 = merge(src_files_to_mosaic_500m_resize_20080420)\n",
    "\n",
    "# Create an output GeoTIFF\n",
    "out_meta_500m_resize_20080420 = src_files_to_mosaic_500m_resize_20080420[0].meta.copy()\n",
    "out_meta_500m_resize_20080420.update({\"driver\": \"GTiff\",\n",
    "                 \"height\": mosaic_500m_resize_20080420.shape[1],\n",
    "                 \"width\": mosaic_500m_resize_20080420.shape[2],\n",
    "                 \"transform\": out_trans_500m_resize_20080420})\n",
    "\n",
    "# Write the mosaic to a new GeoTIFF file\n",
    "with rasterio.open(r\"C:\\Users\\yixiu\\data_from_eosloan_reloc\\historical_data\\all_tiles_historical_resampled_500m\\500m_resize_20080420_combined\\500m_resize_20080420_combined.tif\", \"w\", **out_meta_500m_resize_20080420) as dest:\n",
    "    dest.write(mosaic_500m_resize_20080420)"
   ]
  },
  {
   "cell_type": "markdown",
   "metadata": {},
   "source": [
    "### Merge 500m_resize_20100413_combined"
   ]
  },
  {
   "cell_type": "code",
   "execution_count": null,
   "metadata": {},
   "outputs": [],
   "source": [
    "# Folder containing GeoTIFF images\n",
    "folder_path_500m_resize_20100413 = r\"C:\\Users\\yixiu\\data_from_eosloan_reloc\\historical_data\\all_tiles_historical_resampled_500m\\500m_resize_20100413\"\n",
    "\n",
    "# Define the search pattern for GeoTIFF files\n",
    "tif_pattern_500m_resize_20100413 = os.path.join(folder_path_500m_resize_20100413, \"*.tif\")\n",
    "\n",
    "# Use glob to get a list of all GeoTIFF files in the folder\n",
    "tif_paths_500m_resize_20100413 = glob.glob(tif_pattern_500m_resize_20100413)\n",
    "\n",
    "# Print the list of GeoTIFF paths\n",
    "for tif_path in tif_paths_500m_resize_20100413:\n",
    "    print(tif_path)"
   ]
  },
  {
   "cell_type": "code",
   "execution_count": 3,
   "metadata": {},
   "outputs": [],
   "source": [
    "# Open all GeoTIFFs\n",
    "src_files_to_mosaic_500m_resize_20100413 = [rasterio.open(path) for path in tif_paths_500m_resize_20100413]\n",
    "\n",
    "# Merge images\n",
    "mosaic_500m_resize_20100413, out_trans_500m_resize_20100413 = merge(src_files_to_mosaic_500m_resize_20100413)\n",
    "\n",
    "# Create an output GeoTIFF\n",
    "out_meta_500m_resize_20100413 = src_files_to_mosaic_500m_resize_20100413[0].meta.copy()\n",
    "out_meta_500m_resize_20100413.update({\"driver\": \"GTiff\",\n",
    "                 \"height\": mosaic_500m_resize_20100413.shape[1],\n",
    "                 \"width\": mosaic_500m_resize_20100413.shape[2],\n",
    "                 \"transform\": out_trans_500m_resize_20100413})\n",
    "\n",
    "# Write the mosaic to a new GeoTIFF file\n",
    "with rasterio.open(r\"C:\\Users\\yixiu\\data_from_eosloan_reloc\\historical_data\\all_tiles_historical_resampled_500m\\500m_resize_20100413_combined\\500m_resize_20100413_combined.tif\", \"w\", **out_meta_500m_resize_20100413) as dest:\n",
    "    dest.write(mosaic_500m_resize_20100413)"
   ]
  },
  {
   "cell_type": "markdown",
   "metadata": {},
   "source": [
    "### Merge output_20100413"
   ]
  },
  {
   "cell_type": "code",
   "execution_count": null,
   "metadata": {},
   "outputs": [],
   "source": [
    "# Folder containing GeoTIFF images\n",
    "folder_path_output_20100413 = r\"C:\\Users\\yixiu\\data_from_eosloan_reloc\\historical_data\\all_tiles_historical_resampled_500m\\output_20100413\"\n",
    "\n",
    "# Define the search pattern for GeoTIFF files\n",
    "tif_pattern_output_20100413 = os.path.join(folder_path_output_20100413, \"*.tif\")\n",
    "\n",
    "# Use glob to get a list of all GeoTIFF files in the folder\n",
    "tif_paths_output_20100413 = glob.glob(tif_pattern_output_20100413)\n",
    "\n",
    "# Print the list of GeoTIFF paths\n",
    "for tif_path in tif_paths_output_20100413:\n",
    "    print(tif_path)"
   ]
  },
  {
   "cell_type": "code",
   "execution_count": null,
   "metadata": {},
   "outputs": [],
   "source": [
    "# Open all GeoTIFFs\n",
    "src_files_to_mosaic_output_20100413 = [rasterio.open(path) for path in tif_paths_output_20100413]\n",
    "\n",
    "# Merge images\n",
    "mosaic_output_20100413, out_trans_output_20100413 = merge(src_files_to_mosaic_output_20100413)\n",
    "\n",
    "# Create an output GeoTIFF\n",
    "out_meta_output_20100413 = src_files_to_mosaic_output_20100413[0].meta.copy()\n",
    "out_meta_output_20100413.update({\"driver\": \"GTiff\",\n",
    "                 \"height\": mosaic_output_20100413.shape[1],\n",
    "                 \"width\": mosaic_output_20100413.shape[2],\n",
    "                 \"transform\": out_trans_output_20100413})\n",
    "\n",
    "# Write the mosaic to a new GeoTIFF file\n",
    "with rasterio.open(r\"C:\\Users\\yixiu\\data_from_eosloan_reloc\\historical_data\\all_tiles_historical_resampled_500m\\output_20100413_combined\\output_20100413_combined.tif\", \"w\", **out_meta_output_20100413) as dest:\n",
    "    dest.write(mosaic_output_20100413)"
   ]
  },
  {
   "cell_type": "markdown",
   "metadata": {},
   "source": [
    "## Determine overlapping area"
   ]
  },
  {
   "cell_type": "markdown",
   "metadata": {},
   "source": [
    "### Create the function to create binary mask"
   ]
  },
  {
   "cell_type": "code",
   "execution_count": null,
   "metadata": {},
   "outputs": [],
   "source": [
    "def create_binary_mask(image_path):\n",
    "    with rasterio.open(image_path) as src:\n",
    "        # Get the full geometry of the image\n",
    "        full_geometry = src.shape\n",
    "\n",
    "        # Create a binary mask for the entire image\n",
    "        mask = geometry_mask([full_geometry], transform=src.transform, invert=False, out_shape=src.shape, dtype='bool')\n",
    "        return mask"
   ]
  },
  {
   "cell_type": "code",
   "execution_count": 4,
   "metadata": {},
   "outputs": [
    {
     "ename": "RasterioIOError",
     "evalue": "C:/Users/yixiu/data_from_eosloan_reloc/historical_data/all_tiles_historical_resampled_500m/output_combined/500m_resize_20060529_combined.tif: No such file or directory",
     "output_type": "error",
     "traceback": [
      "\u001b[1;31m---------------------------------------------------------------------------\u001b[0m",
      "\u001b[1;31mCPLE_OpenFailedError\u001b[0m                      Traceback (most recent call last)",
      "File \u001b[1;32mrasterio\\_base.pyx:261\u001b[0m, in \u001b[0;36mrasterio._base.DatasetBase.__init__\u001b[1;34m()\u001b[0m\n",
      "File \u001b[1;32mrasterio\\_shim.pyx:78\u001b[0m, in \u001b[0;36mrasterio._shim.open_dataset\u001b[1;34m()\u001b[0m\n",
      "File \u001b[1;32mrasterio\\_err.pyx:216\u001b[0m, in \u001b[0;36mrasterio._err.exc_wrap_pointer\u001b[1;34m()\u001b[0m\n",
      "\u001b[1;31mCPLE_OpenFailedError\u001b[0m: C:/Users/yixiu/data_from_eosloan_reloc/historical_data/all_tiles_historical_resampled_500m/output_combined/500m_resize_20060529_combined.tif: No such file or directory",
      "\nDuring handling of the above exception, another exception occurred:\n",
      "\u001b[1;31mRasterioIOError\u001b[0m                           Traceback (most recent call last)",
      "Cell \u001b[1;32mIn[4], line 1\u001b[0m\n\u001b[1;32m----> 1\u001b[0m \u001b[38;5;28;01mwith\u001b[39;00m \u001b[43mrasterio\u001b[49m\u001b[38;5;241;43m.\u001b[39;49m\u001b[43mopen\u001b[49m\u001b[43m(\u001b[49m\u001b[38;5;124;43mr\u001b[39;49m\u001b[38;5;124;43m\"\u001b[39;49m\u001b[38;5;124;43mC:\u001b[39;49m\u001b[38;5;124;43m\\\u001b[39;49m\u001b[38;5;124;43mUsers\u001b[39;49m\u001b[38;5;124;43m\\\u001b[39;49m\u001b[38;5;124;43myixiu\u001b[39;49m\u001b[38;5;124;43m\\\u001b[39;49m\u001b[38;5;124;43mdata_from_eosloan_reloc\u001b[39;49m\u001b[38;5;124;43m\\\u001b[39;49m\u001b[38;5;124;43mhistorical_data\u001b[39;49m\u001b[38;5;124;43m\\\u001b[39;49m\u001b[38;5;124;43mall_tiles_historical_resampled_500m\u001b[39;49m\u001b[38;5;124;43m\\\u001b[39;49m\u001b[38;5;124;43moutput_combined\u001b[39;49m\u001b[38;5;124;43m\\\u001b[39;49m\u001b[38;5;124;43m500m_resize_20060529_combined.tif\u001b[39;49m\u001b[38;5;124;43m\"\u001b[39;49m\u001b[43m)\u001b[49m \u001b[38;5;28;01mas\u001b[39;00m src:\n\u001b[0;32m      2\u001b[0m     \u001b[38;5;66;03m# Get the full geometry of the image\u001b[39;00m\n\u001b[0;32m      3\u001b[0m     full_geometry \u001b[38;5;241m=\u001b[39m src\u001b[38;5;241m.\u001b[39mshape\n\u001b[0;32m      5\u001b[0m     \u001b[38;5;66;03m# Create a binary mask for the entire image\u001b[39;00m\n",
      "File \u001b[1;32mc:\\Users\\yixiu\\AppData\\Local\\Programs\\Python\\Python311\\Lib\\site-packages\\rasterio\\env.py:437\u001b[0m, in \u001b[0;36mensure_env_with_credentials.<locals>.wrapper\u001b[1;34m(*args, **kwds)\u001b[0m\n\u001b[0;32m    434\u001b[0m     session \u001b[38;5;241m=\u001b[39m DummySession()\n\u001b[0;32m    436\u001b[0m \u001b[38;5;28;01mwith\u001b[39;00m env_ctor(session\u001b[38;5;241m=\u001b[39msession):\n\u001b[1;32m--> 437\u001b[0m     \u001b[38;5;28;01mreturn\u001b[39;00m \u001b[43mf\u001b[49m\u001b[43m(\u001b[49m\u001b[38;5;241;43m*\u001b[39;49m\u001b[43margs\u001b[49m\u001b[43m,\u001b[49m\u001b[43m \u001b[49m\u001b[38;5;241;43m*\u001b[39;49m\u001b[38;5;241;43m*\u001b[39;49m\u001b[43mkwds\u001b[49m\u001b[43m)\u001b[49m\n",
      "File \u001b[1;32mc:\\Users\\yixiu\\AppData\\Local\\Programs\\Python\\Python311\\Lib\\site-packages\\rasterio\\__init__.py:228\u001b[0m, in \u001b[0;36mopen\u001b[1;34m(fp, mode, driver, width, height, count, crs, transform, dtype, nodata, sharing, **kwargs)\u001b[0m\n\u001b[0;32m    224\u001b[0m \u001b[38;5;66;03m# Create dataset instances and pass the given env, which will\u001b[39;00m\n\u001b[0;32m    225\u001b[0m \u001b[38;5;66;03m# be taken over by the dataset's context manager if it is not\u001b[39;00m\n\u001b[0;32m    226\u001b[0m \u001b[38;5;66;03m# None.\u001b[39;00m\n\u001b[0;32m    227\u001b[0m \u001b[38;5;28;01mif\u001b[39;00m mode \u001b[38;5;241m==\u001b[39m \u001b[38;5;124m'\u001b[39m\u001b[38;5;124mr\u001b[39m\u001b[38;5;124m'\u001b[39m:\n\u001b[1;32m--> 228\u001b[0m     s \u001b[38;5;241m=\u001b[39m \u001b[43mDatasetReader\u001b[49m\u001b[43m(\u001b[49m\u001b[43mpath\u001b[49m\u001b[43m,\u001b[49m\u001b[43m \u001b[49m\u001b[43mdriver\u001b[49m\u001b[38;5;241;43m=\u001b[39;49m\u001b[43mdriver\u001b[49m\u001b[43m,\u001b[49m\u001b[43m \u001b[49m\u001b[43msharing\u001b[49m\u001b[38;5;241;43m=\u001b[39;49m\u001b[43msharing\u001b[49m\u001b[43m,\u001b[49m\u001b[43m \u001b[49m\u001b[38;5;241;43m*\u001b[39;49m\u001b[38;5;241;43m*\u001b[39;49m\u001b[43mkwargs\u001b[49m\u001b[43m)\u001b[49m\n\u001b[0;32m    229\u001b[0m \u001b[38;5;28;01melif\u001b[39;00m mode \u001b[38;5;241m==\u001b[39m \u001b[38;5;124m\"\u001b[39m\u001b[38;5;124mr+\u001b[39m\u001b[38;5;124m\"\u001b[39m:\n\u001b[0;32m    230\u001b[0m     s \u001b[38;5;241m=\u001b[39m get_writer_for_path(path, driver\u001b[38;5;241m=\u001b[39mdriver)(\n\u001b[0;32m    231\u001b[0m         path, mode, driver\u001b[38;5;241m=\u001b[39mdriver, sharing\u001b[38;5;241m=\u001b[39msharing, \u001b[38;5;241m*\u001b[39m\u001b[38;5;241m*\u001b[39mkwargs\n\u001b[0;32m    232\u001b[0m     )\n",
      "File \u001b[1;32mrasterio\\_base.pyx:263\u001b[0m, in \u001b[0;36mrasterio._base.DatasetBase.__init__\u001b[1;34m()\u001b[0m\n",
      "\u001b[1;31mRasterioIOError\u001b[0m: C:/Users/yixiu/data_from_eosloan_reloc/historical_data/all_tiles_historical_resampled_500m/output_combined/500m_resize_20060529_combined.tif: No such file or directory"
     ]
    }
   ],
   "source": [
    "with rasterio.open(r\"C:\\Users\\yixiu\\data_from_eosloan_reloc\\historical_data\\all_tiles_historical_resampled_500m\\output_combined\\500m_resize_20060529_combined.tif\") as src:\n",
    "    # Get the full geometry of the image\n",
    "    full_geometry = src.shape\n",
    "\n",
    "    # Create a binary mask for the entire image\n",
    "    mask = geometry_mask([full_geometry], transform=src.transform, invert=False, out_shape=src.shape, dtype='bool')"
   ]
  },
  {
   "cell_type": "markdown",
   "metadata": {},
   "source": [
    "### Combine all three masks"
   ]
  },
  {
   "cell_type": "code",
   "execution_count": null,
   "metadata": {},
   "outputs": [],
   "source": [
    "def combine_masks(mask1, mask2, mask3):\n",
    "    # Combine three binary masks using logical AND\n",
    "    combined_mask = np.logical_and(np.logical_and(mask1, mask2), mask3)\n",
    "    return combined_mask"
   ]
  },
  {
   "cell_type": "markdown",
   "metadata": {},
   "source": [
    "### Apply the combined mask to determine overlapping area"
   ]
  },
  {
   "cell_type": "code",
   "execution_count": null,
   "metadata": {},
   "outputs": [],
   "source": [
    "def apply_combined_mask(image_path, combined_mask):\n",
    "    with rasterio.open(image_path) as src:\n",
    "        image_data = src.read(1)\n",
    "\n",
    "        # Apply the combined binary mask\n",
    "        masked_data = np.where(combined_mask, image_data, 0)\n",
    "\n",
    "        return masked_data"
   ]
  },
  {
   "cell_type": "markdown",
   "metadata": {},
   "source": [
    "### Plot the original and the masked images"
   ]
  },
  {
   "cell_type": "code",
   "execution_count": null,
   "metadata": {},
   "outputs": [],
   "source": [
    "def plot_masked_image(image_path, masked_data):\n",
    "    with rasterio.open(image_path) as src:\n",
    "        fig, axes = plt.subplots(1, 2, figsize=(12, 6))\n",
    "\n",
    "        axes[0].imshow(src.read(1), cmap='gray')\n",
    "        axes[0].set_title('Original Image')\n",
    "\n",
    "        axes[1].imshow(masked_data, cmap='gray')\n",
    "        axes[1].set_title('Masked Image')\n",
    "\n",
    "        plt.show()"
   ]
  },
  {
   "cell_type": "code",
   "execution_count": null,
   "metadata": {},
   "outputs": [],
   "source": [
    "if __name__ == \"__main__\":\n",
    "    # Provide paths to your three raster images\n",
    "    image_path1 = \"C:\\Users\\yixiu\\data_from_eosloan_reloc\\historical_data\\all_tiles_historical_resampled_500m\\16bit_20060529_combined\\output_mosaic_20060529.tif\"\n",
    "    image_path2 = \"C:\\Users\\yixiu\\data_from_eosloan_reloc\\historical_data\\all_tiles_historical_resampled_500m\\16bit_20060529_combined\\output_mosaic_20080420.tif\"\n",
    "    image_path3 = \"C:\\Users\\yixiu\\data_from_eosloan_reloc\\historical_data\\all_tiles_historical_resampled_500m\\16bit_20060529_combined\\output_mosaic_20100413.tif\"\n",
    "\n",
    "    # Create binary masks for each image\n",
    "    mask1 = create_binary_mask(image_path1)\n",
    "    mask2 = create_binary_mask(image_path2)\n",
    "    mask3 = create_binary_mask(image_path3)\n",
    "\n",
    "    # Combine the masks to get the common overlapping area\n",
    "    combined_mask = combine_masks(mask1, mask2, mask3)\n",
    "\n",
    "    # Apply the combined mask to each image\n",
    "    masked_data1 = apply_combined_mask(image_path1, combined_mask)\n",
    "    masked_data2 = apply_combined_mask(image_path2, combined_mask)\n",
    "    masked_data3 = apply_combined_mask(image_path3, combined_mask)\n",
    "    \n",
    "    # Now, masked_data1, masked_data2, and masked_data3 contain the overlapping areas of the three images\n",
    "    \n",
    "    # Plot the original images and the masked images\n",
    "    plot_masked_image(image_path1, masked_data1)\n",
    "    plot_masked_image(image_path2, masked_data2)\n",
    "    plot_masked_image(image_path3, masked_data3)"
   ]
  }
 ],
 "metadata": {
  "kernelspec": {
   "display_name": "Python 3",
   "language": "python",
   "name": "python3"
  },
  "language_info": {
   "codemirror_mode": {
    "name": "ipython",
    "version": 3
   },
   "file_extension": ".py",
   "mimetype": "text/x-python",
   "name": "python",
   "nbconvert_exporter": "python",
   "pygments_lexer": "ipython3",
   "version": "3.11.3"
  }
 },
 "nbformat": 4,
 "nbformat_minor": 2
}

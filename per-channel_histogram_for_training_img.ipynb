{
 "cells": [
  {
   "cell_type": "markdown",
   "metadata": {},
   "source": [
    "#### per-channel histogram for training images"
   ]
  },
  {
   "cell_type": "code",
   "execution_count": null,
   "metadata": {},
   "outputs": [],
   "source": [
    "channel_data = [[] for _ in range(4)]\n",
    "\n",
    "training_img_folder = r\"C:\\Users\\yixiu\\data_from_eosloan_reloc\\pm_stations\\tiles_224by224_vicinity_center_8bit\"\n",
    "\n",
    "station_list = os.listdir(training_img_folder)"
   ]
  },
  {
   "cell_type": "code",
   "execution_count": null,
   "metadata": {},
   "outputs": [],
   "source": [
    "for station in station_list:\n",
    "    full_path = os.path.join(training_img_folder, station, '8_bit')\n",
    "    print(full_path)\n",
    "    image_list = os.listdir(full_path)\n",
    "    for image in image_list:\n",
    "        image_path = os.path.join(full_path, image)\n",
    "        # Open the TIFF image\n",
    "        with rasterio.open(image_path) as src:\n",
    "            # Read the image\n",
    "            img = src.read()\n",
    "\n",
    "        # Convert the image to a numpy array\n",
    "        img_array = np.array(img)\n",
    "\n",
    "        # Extract pixel values for each channel\n",
    "        for i in range(4):  # Assuming 4 channels\n",
    "            channel_data[i].extend(img_array[i,:,:].flatten())\n",
    "            "
   ]
  }
 ],
 "metadata": {
  "kernelspec": {
   "display_name": "Python 3",
   "language": "python",
   "name": "python3"
  },
  "language_info": {
   "name": "python",
   "version": "3.11.3"
  }
 },
 "nbformat": 4,
 "nbformat_minor": 2
}

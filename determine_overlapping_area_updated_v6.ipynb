{
 "cells": [
  {
   "cell_type": "code",
   "execution_count": 4,
   "metadata": {},
   "outputs": [],
   "source": [
    "import os\n",
    "import glob\n",
    "import rasterio\n",
    "from rasterio.features import geometry_mask\n",
    "from shapely.geometry import shape\n",
    "import numpy as np\n",
    "import matplotlib.pyplot as plt\n",
    "from rasterio.merge import merge\n",
    "from rasterio.transform import from_origin\n",
    "from rasterio.plot import show\n",
    "from rasterio.transform import from_bounds"
   ]
  },
  {
   "cell_type": "markdown",
   "metadata": {},
   "source": [
    "## Merging all tif images into one tif image"
   ]
  },
  {
   "cell_type": "markdown",
   "metadata": {},
   "source": [
    "### Create the variable \"tif_paths\" that contain all image directories"
   ]
  },
  {
   "cell_type": "code",
   "execution_count": null,
   "metadata": {},
   "outputs": [],
   "source": [
    "# Folder containing GeoTIFF images\n",
    "folder_path = r\"C:\\Users\\yixiu\\data_from_eosloan_reloc\\historical_data\\all_tiles_historical_resampled_500m\\16bit_20060529\"\n",
    "\n",
    "# Define the search pattern for GeoTIFF files\n",
    "tif_pattern = os.path.join(folder_path, \"*.tif\")\n",
    "\n",
    "# Use glob to get a list of all GeoTIFF files in the folder\n",
    "tif_paths = glob.glob(tif_pattern)\n",
    "\n",
    "# Print the list of GeoTIFF paths\n",
    "for tif_path in tif_paths:\n",
    "    print(tif_path)"
   ]
  },
  {
   "cell_type": "markdown",
   "metadata": {},
   "source": [
    "### Merge all the images"
   ]
  },
  {
   "cell_type": "code",
   "execution_count": 5,
   "metadata": {},
   "outputs": [],
   "source": [
    "# Open all GeoTIFFs\n",
    "src_files_to_mosaic = [rasterio.open(path) for path in tif_paths]\n",
    "\n",
    "# Merge images\n",
    "mosaic, out_trans = merge(src_files_to_mosaic)\n",
    "\n",
    "# Create an output GeoTIFF\n",
    "out_meta = src_files_to_mosaic[0].meta.copy()\n",
    "out_meta.update({\"driver\": \"GTiff\",\n",
    "                 \"height\": mosaic.shape[1],\n",
    "                 \"width\": mosaic.shape[2],\n",
    "                 \"transform\": out_trans})\n",
    "\n",
    "# Write the mosaic to a new GeoTIFF file\n",
    "with rasterio.open(r\"C:\\Users\\yixiu\\data_from_eosloan_reloc\\historical_data\\all_tiles_historical_resampled_500m\\16bit_20060529_combined\\output_mosaic.tif\", \"w\", **out_meta) as dest:\n",
    "    dest.write(mosaic)"
   ]
  },
  {
   "cell_type": "markdown",
   "metadata": {},
   "source": [
    "### Merge 500m_resize_20080420_combined"
   ]
  },
  {
   "cell_type": "code",
   "execution_count": null,
   "metadata": {},
   "outputs": [],
   "source": [
    "# Folder containing GeoTIFF images\n",
    "folder_path_500m_resize_20080420 = r\"C:\\Users\\yixiu\\data_from_eosloan_reloc\\historical_data\\all_tiles_historical_resampled_500m\\500m_resize_20080420\"\n",
    "\n",
    "# Define the search pattern for GeoTIFF files\n",
    "tif_pattern_500m_resize_20080420 = os.path.join(folder_path_500m_resize_20080420, \"*.tif\")\n",
    "\n",
    "# Use glob to get a list of all GeoTIFF files in the folder\n",
    "tif_paths_500m_resize_20080420 = glob.glob(tif_pattern_500m_resize_20080420)\n",
    "\n",
    "# Print the list of GeoTIFF paths\n",
    "for tif_path in tif_paths_500m_resize_20080420:\n",
    "    print(tif_path)"
   ]
  },
  {
   "cell_type": "code",
   "execution_count": 5,
   "metadata": {},
   "outputs": [],
   "source": [
    "# Open all GeoTIFFs\n",
    "src_files_to_mosaic_500m_resize_20080420 = [rasterio.open(path) for path in tif_paths_500m_resize_20080420]\n",
    "\n",
    "# Merge images\n",
    "mosaic_500m_resize_20080420, out_trans_500m_resize_20080420 = merge(src_files_to_mosaic_500m_resize_20080420)\n",
    "\n",
    "# Create an output GeoTIFF\n",
    "out_meta_500m_resize_20080420 = src_files_to_mosaic_500m_resize_20080420[0].meta.copy()\n",
    "out_meta_500m_resize_20080420.update({\"driver\": \"GTiff\",\n",
    "                 \"height\": mosaic_500m_resize_20080420.shape[1],\n",
    "                 \"width\": mosaic_500m_resize_20080420.shape[2],\n",
    "                 \"transform\": out_trans_500m_resize_20080420})\n",
    "\n",
    "# Write the mosaic to a new GeoTIFF file\n",
    "with rasterio.open(r\"C:\\Users\\yixiu\\data_from_eosloan_reloc\\historical_data\\all_tiles_historical_resampled_500m\\500m_resize_20080420_combined\\500m_resize_20080420_combined.tif\", \"w\", **out_meta_500m_resize_20080420) as dest:\n",
    "    dest.write(mosaic_500m_resize_20080420)"
   ]
  },
  {
   "cell_type": "markdown",
   "metadata": {},
   "source": [
    "### Merge 500m_resize_20100413_combined"
   ]
  },
  {
   "cell_type": "code",
   "execution_count": null,
   "metadata": {},
   "outputs": [],
   "source": [
    "# Folder containing GeoTIFF images\n",
    "folder_path_500m_resize_20100413 = r\"C:\\Users\\yixiu\\data_from_eosloan_reloc\\historical_data\\all_tiles_historical_resampled_500m\\500m_resize_20100413\"\n",
    "\n",
    "# Define the search pattern for GeoTIFF files\n",
    "tif_pattern_500m_resize_20100413 = os.path.join(folder_path_500m_resize_20100413, \"*.tif\")\n",
    "\n",
    "# Use glob to get a list of all GeoTIFF files in the folder\n",
    "tif_paths_500m_resize_20100413 = glob.glob(tif_pattern_500m_resize_20100413)\n",
    "\n",
    "# Print the list of GeoTIFF paths\n",
    "for tif_path in tif_paths_500m_resize_20100413:\n",
    "    print(tif_path)"
   ]
  },
  {
   "cell_type": "code",
   "execution_count": 3,
   "metadata": {},
   "outputs": [],
   "source": [
    "# Open all GeoTIFFs\n",
    "src_files_to_mosaic_500m_resize_20100413 = [rasterio.open(path) for path in tif_paths_500m_resize_20100413]\n",
    "\n",
    "# Merge images\n",
    "mosaic_500m_resize_20100413, out_trans_500m_resize_20100413 = merge(src_files_to_mosaic_500m_resize_20100413)\n",
    "\n",
    "# Create an output GeoTIFF\n",
    "out_meta_500m_resize_20100413 = src_files_to_mosaic_500m_resize_20100413[0].meta.copy()\n",
    "out_meta_500m_resize_20100413.update({\"driver\": \"GTiff\",\n",
    "                 \"height\": mosaic_500m_resize_20100413.shape[1],\n",
    "                 \"width\": mosaic_500m_resize_20100413.shape[2],\n",
    "                 \"transform\": out_trans_500m_resize_20100413})\n",
    "\n",
    "# Write the mosaic to a new GeoTIFF file\n",
    "with rasterio.open(r\"C:\\Users\\yixiu\\data_from_eosloan_reloc\\historical_data\\all_tiles_historical_resampled_500m\\500m_resize_20100413_combined\\500m_resize_20100413_combined.tif\", \"w\", **out_meta_500m_resize_20100413) as dest:\n",
    "    dest.write(mosaic_500m_resize_20100413)"
   ]
  },
  {
   "cell_type": "markdown",
   "metadata": {},
   "source": [
    "### Merge output_20100413"
   ]
  },
  {
   "cell_type": "code",
   "execution_count": null,
   "metadata": {},
   "outputs": [],
   "source": [
    "# Folder containing GeoTIFF images\n",
    "folder_path_output_20100413 = r\"C:\\Users\\yixiu\\data_from_eosloan_reloc\\historical_data\\all_tiles_historical_resampled_500m\\output_20100413\"\n",
    "\n",
    "# Define the search pattern for GeoTIFF files\n",
    "tif_pattern_output_20100413 = os.path.join(folder_path_output_20100413, \"*.tif\")\n",
    "\n",
    "# Use glob to get a list of all GeoTIFF files in the folder\n",
    "tif_paths_output_20100413 = glob.glob(tif_pattern_output_20100413)\n",
    "\n",
    "# Print the list of GeoTIFF paths\n",
    "for tif_path in tif_paths_output_20100413:\n",
    "    print(tif_path)"
   ]
  },
  {
   "cell_type": "code",
   "execution_count": null,
   "metadata": {},
   "outputs": [],
   "source": [
    "# Open all GeoTIFFs\n",
    "src_files_to_mosaic_output_20100413 = [rasterio.open(path) for path in tif_paths_output_20100413]\n",
    "\n",
    "# Merge images\n",
    "mosaic_output_20100413, out_trans_output_20100413 = merge(src_files_to_mosaic_output_20100413)\n",
    "\n",
    "# Create an output GeoTIFF\n",
    "out_meta_output_20100413 = src_files_to_mosaic_output_20100413[0].meta.copy()\n",
    "out_meta_output_20100413.update({\"driver\": \"GTiff\",\n",
    "                 \"height\": mosaic_output_20100413.shape[1],\n",
    "                 \"width\": mosaic_output_20100413.shape[2],\n",
    "                 \"transform\": out_trans_output_20100413})\n",
    "\n",
    "# Write the mosaic to a new GeoTIFF file\n",
    "with rasterio.open(r\"C:\\Users\\yixiu\\data_from_eosloan_reloc\\historical_data\\all_tiles_historical_resampled_500m\\output_20100413_combined\\output_20100413_combined.tif\", \"w\", **out_meta_output_20100413) as dest:\n",
    "    dest.write(mosaic_output_20100413)"
   ]
  },
  {
   "cell_type": "markdown",
   "metadata": {},
   "source": [
    "## Determine overlapping area"
   ]
  },
  {
   "cell_type": "markdown",
   "metadata": {},
   "source": [
    "### Create the function to create binary mask"
   ]
  },
  {
   "cell_type": "code",
   "execution_count": null,
   "metadata": {},
   "outputs": [],
   "source": [
    "# def create_binary_mask(image_path):\n",
    "#     with rasterio.open(image_path) as src:\n",
    "#         # Get the full geometry of the image\n",
    "#         full_geometry = src.shape\n",
    "\n",
    "#         # Create a binary mask for the entire image\n",
    "#         mask = geometry_mask([full_geometry], transform=src.transform, invert=False, out_shape=src.shape, dtype='bool')\n",
    "#         return mask"
   ]
  },
  {
   "cell_type": "code",
   "execution_count": null,
   "metadata": {},
   "outputs": [],
   "source": [
    "# original version (doesn't work)\n",
    "# image_path = r\"C:\\Users\\yixiu\\data_from_eosloan_reloc\\historical_data\\all_tiles_historical_resampled_500m\\500m_resize\\500m_resize_20060529_combined\\500m_resize_20060529_combined.tif\"\n",
    "# with rasterio.open(image_path) as src:\n",
    "#     # Get the full geometry of the image\n",
    "#     full_geometry = src.shape\n",
    "\n",
    "#     # Create a binary mask for the entire image\n",
    "#     mask = geometry_mask([full_geometry], transform=src.transform, invert=False, out_shape=src.shape, dtype='bool')"
   ]
  },
  {
   "cell_type": "code",
   "execution_count": 3,
   "metadata": {},
   "outputs": [
    {
     "name": "stdout",
     "output_type": "stream",
     "text": [
      "[[ True  True  True ...  True  True  True]\n",
      " [ True  True  True ...  True  True  True]\n",
      " [ True  True  True ...  True  True  True]\n",
      " ...\n",
      " [ True  True  True ...  True  True  True]\n",
      " [ True  True  True ...  True  True  True]\n",
      " [ True  True  True ...  True  True  True]]\n"
     ]
    }
   ],
   "source": [
    "# image_path1 = r\"Z:\\data_from_eosloan_reloc\\historical_data\\all_tiles_historical_resampled_500m\\500m_resize\\500m_resize_20060529_combined\\500m_resize_20060529_combined.tif\"\n",
    "\n",
    "\n",
    "# with rasterio.open(image_path1) as src:\n",
    "#     # Create an array of ones with the same shape as the image\n",
    "#     # This creates a \"mask\" where every pixel is considered \"masked\" (value of 1)\n",
    "#     # If you want the opposite (everything unmasked), you can use np.zeros instead of np.ones\n",
    "#     mask1 = np.ones(src.shape, dtype=bool)\n",
    "\n",
    "# # At this point, mask is a binary mask for the entire image, where every pixel is masked.\n",
    "\n",
    "# print(mask1)"
   ]
  },
  {
   "cell_type": "code",
   "execution_count": 4,
   "metadata": {},
   "outputs": [
    {
     "name": "stdout",
     "output_type": "stream",
     "text": [
      "[[ True  True  True ...  True  True  True]\n",
      " [ True  True  True ...  True  True  True]\n",
      " [ True  True  True ...  True  True  True]\n",
      " ...\n",
      " [ True  True  True ...  True  True  True]\n",
      " [ True  True  True ...  True  True  True]\n",
      " [ True  True  True ...  True  True  True]]\n"
     ]
    }
   ],
   "source": [
    "# image_path2 = r\"Z:\\data_from_eosloan_reloc\\historical_data\\all_tiles_historical_resampled_500m\\500m_resize\\500m_resize_20080420_combined\\500m_resize_20080420_combined.tif\"\n",
    "\n",
    "# with rasterio.open(image_path2) as src:\n",
    "#     mask2 = np.ones(src.shape, dtype=bool)\n",
    "\n",
    "# print(mask2)"
   ]
  },
  {
   "cell_type": "code",
   "execution_count": 5,
   "metadata": {},
   "outputs": [
    {
     "name": "stdout",
     "output_type": "stream",
     "text": [
      "[[ True  True  True ...  True  True  True]\n",
      " [ True  True  True ...  True  True  True]\n",
      " [ True  True  True ...  True  True  True]\n",
      " ...\n",
      " [ True  True  True ...  True  True  True]\n",
      " [ True  True  True ...  True  True  True]\n",
      " [ True  True  True ...  True  True  True]]\n"
     ]
    }
   ],
   "source": [
    "# image_path3 = r\"Z:\\data_from_eosloan_reloc\\historical_data\\all_tiles_historical_resampled_500m\\500m_resize\\500m_resize_20100413_combined\\500m_resize_20100413_combined.tif\"\n",
    "\n",
    "# with rasterio.open(image_path3) as src:\n",
    "#     mask3 = np.ones(src.shape, dtype=bool)\n",
    "\n",
    "# print(mask3)"
   ]
  },
  {
   "cell_type": "code",
   "execution_count": 6,
   "metadata": {},
   "outputs": [
    {
     "name": "stdout",
     "output_type": "stream",
     "text": [
      "[[ True  True  True ...  True  True  True]\n",
      " [ True  True  True ...  True  True  True]\n",
      " [ True  True  True ...  True  True  True]\n",
      " ...\n",
      " [ True  True  True ...  True  True  True]\n",
      " [ True  True  True ...  True  True  True]\n",
      " [ True  True  True ...  True  True  True]]\n"
     ]
    }
   ],
   "source": [
    "# image_path4 = r\"Z:\\data_from_eosloan_reloc\\historical_data\\all_tiles_historical_resampled_500m\\output_folder\\output_20060529_combined\\output_20060529_combined.tif\"\n",
    "\n",
    "# with rasterio.open(image_path4) as src:\n",
    "#     mask4 = np.ones(src.shape, dtype=bool)\n",
    "\n",
    "# print(mask4)"
   ]
  },
  {
   "cell_type": "code",
   "execution_count": 7,
   "metadata": {},
   "outputs": [
    {
     "name": "stdout",
     "output_type": "stream",
     "text": [
      "[[ True  True  True ...  True  True  True]\n",
      " [ True  True  True ...  True  True  True]\n",
      " [ True  True  True ...  True  True  True]\n",
      " ...\n",
      " [ True  True  True ...  True  True  True]\n",
      " [ True  True  True ...  True  True  True]\n",
      " [ True  True  True ...  True  True  True]]\n"
     ]
    }
   ],
   "source": [
    "# image_path5 = r\"Z:\\data_from_eosloan_reloc\\historical_data\\all_tiles_historical_resampled_500m\\output_folder\\output_20080420_combined\\output_20080420_combined.tif\"\n",
    "\n",
    "# with rasterio.open(image_path5) as src:\n",
    "#     mask5 = np.ones(src.shape, dtype=bool)\n",
    "\n",
    "# print(mask5)"
   ]
  },
  {
   "cell_type": "code",
   "execution_count": 8,
   "metadata": {},
   "outputs": [
    {
     "name": "stdout",
     "output_type": "stream",
     "text": [
      "[[ True  True  True ...  True  True  True]\n",
      " [ True  True  True ...  True  True  True]\n",
      " [ True  True  True ...  True  True  True]\n",
      " ...\n",
      " [ True  True  True ...  True  True  True]\n",
      " [ True  True  True ...  True  True  True]\n",
      " [ True  True  True ...  True  True  True]]\n"
     ]
    }
   ],
   "source": [
    "# image_path6 = r\"Z:\\data_from_eosloan_reloc\\historical_data\\all_tiles_historical_resampled_500m\\output_folder\\output_20100413_combined\\output_20100413_combined.tif\"\n",
    "\n",
    "# with rasterio.open(image_path6) as src:\n",
    "#     mask6 = np.ones(src.shape, dtype=bool)\n",
    "\n",
    "# print(mask6)"
   ]
  },
  {
   "cell_type": "markdown",
   "metadata": {},
   "source": [
    "### Combine all three masks"
   ]
  },
  {
   "cell_type": "code",
   "execution_count": null,
   "metadata": {},
   "outputs": [],
   "source": [
    "# original version (doesn't work)\n",
    "# def combine_masks(mask1, mask2, mask3):\n",
    "#     # Combine three binary masks using logical AND\n",
    "#     combined_mask = np.logical_and(np.logical_and(mask1, mask2), mask3)\n",
    "#     return combined_mask"
   ]
  },
  {
   "cell_type": "code",
   "execution_count": 8,
   "metadata": {},
   "outputs": [
    {
     "name": "stdout",
     "output_type": "stream",
     "text": [
      "(13869, 6038) (12379, 6195) (10720, 6078) (13869, 6038) (12378, 6195) (10719, 6078)\n"
     ]
    }
   ],
   "source": [
    "# print(mask1.shape, mask2.shape, mask3.shape, mask4.shape, mask5.shape, mask6.shape)"
   ]
  },
  {
   "cell_type": "markdown",
   "metadata": {},
   "source": [
    "#### no geographical information was considered"
   ]
  },
  {
   "cell_type": "code",
   "execution_count": 15,
   "metadata": {},
   "outputs": [],
   "source": [
    "# # Step 1: determine the common shape\n",
    "\n",
    "# shapes = [mask1.shape, mask2.shape, mask3.shape, mask4.shape, mask5.shape, mask6.shape]\n",
    "\n",
    "# # Determine the maximum dimensions needed\n",
    "# max_height = max(shape[0] for shape in shapes)\n",
    "# max_width = max(shape[1] for shape in shapes)\n",
    "# common_shape = (max_height, max_width)\n",
    "\n",
    "# # Step 2: pad each mask\n",
    "\n",
    "# def pad_mask_to_common_shape(mask, common_shape):\n",
    "#     \"\"\"Pad a mask to match the common shape.\"\"\"\n",
    "#     # Calculate padding amounts\n",
    "#     height_pad = common_shape[0] - mask.shape[0]\n",
    "#     width_pad = common_shape[1] - mask.shape[1]\n",
    "    \n",
    "#     # Apply symmetric padding. If odd padding, add the extra padding to the bottom/right\n",
    "#     pad_height = (height_pad // 2, height_pad - height_pad // 2)\n",
    "#     pad_width = (width_pad // 2, width_pad - width_pad // 2)\n",
    "    \n",
    "#     # Pad the mask and return\n",
    "#     return np.pad(mask, (pad_height, pad_width), 'constant', constant_values=0)\n",
    "\n",
    "# # Pad each mask\n",
    "# mask1_padded = pad_mask_to_common_shape(mask1, common_shape)\n",
    "# mask2_padded = pad_mask_to_common_shape(mask2, common_shape)\n",
    "# mask3_padded = pad_mask_to_common_shape(mask3, common_shape)\n",
    "# mask4_padded = pad_mask_to_common_shape(mask4, common_shape)\n",
    "# mask5_padded = pad_mask_to_common_shape(mask5, common_shape)\n",
    "# mask6_padded = pad_mask_to_common_shape(mask6, common_shape)\n",
    "\n",
    "# # stack and combine the masks\n",
    "# stacked_masks = np.stack((mask1_padded, mask2_padded, mask3_padded, mask4_padded, mask5_padded, mask6_padded))\n",
    "# combined_mask = np.logical_and.reduce(stacked_masks, axis=0)"
   ]
  },
  {
   "cell_type": "markdown",
   "metadata": {},
   "source": [
    "#### add consideration of geographical information"
   ]
  },
  {
   "cell_type": "markdown",
   "metadata": {},
   "source": [
    "#### Spatially aware padding and deriving the overlapping area by calculating the combined mask"
   ]
  },
  {
   "cell_type": "code",
   "execution_count": 9,
   "metadata": {},
   "outputs": [],
   "source": [
    "# Load each image and create masks\n",
    "image_paths = [\n",
    "    r\"Z:\\data_from_eosloan_reloc\\historical_data\\all_tiles_historical_resampled_500m\\500m_resize\\500m_resize_20060529_combined\\500m_resize_20060529_combined.tif\",\n",
    "    r\"Z:\\data_from_eosloan_reloc\\historical_data\\all_tiles_historical_resampled_500m\\500m_resize\\500m_resize_20080420_combined\\500m_resize_20080420_combined.tif\",\n",
    "    r\"Z:\\data_from_eosloan_reloc\\historical_data\\all_tiles_historical_resampled_500m\\500m_resize\\500m_resize_20100413_combined\\500m_resize_20100413_combined.tif\",\n",
    "    r\"Z:\\data_from_eosloan_reloc\\historical_data\\all_tiles_historical_resampled_500m\\output_folder\\output_20060529_combined\\output_20060529_combined.tif\",\n",
    "    r\"Z:\\data_from_eosloan_reloc\\historical_data\\all_tiles_historical_resampled_500m\\output_folder\\output_20080420_combined\\output_20080420_combined.tif\",\n",
    "    r\"Z:\\data_from_eosloan_reloc\\historical_data\\all_tiles_historical_resampled_500m\\output_folder\\output_20100413_combined\\output_20100413_combined.tif\"\n",
    "]\n",
    "\n",
    "masks = []\n",
    "srcs = []"
   ]
  },
  {
   "cell_type": "code",
   "execution_count": 10,
   "metadata": {},
   "outputs": [
    {
     "data": {
      "text/plain": [
       "(689046.4, 3149763.1112668808, 722630.596517494, 3191370.5626582373)"
      ]
     },
     "execution_count": 10,
     "metadata": {},
     "output_type": "execute_result"
    }
   ],
   "source": [
    "# Load each image and create mask\n",
    "for image_path in image_paths:\n",
    "    with rasterio.open(image_path) as src:\n",
    "        srcs.append(src)\n",
    "        mask = np.ones(src.shape, dtype=bool)\n",
    "        masks.append(mask)\n",
    "\n",
    "# Determine the common bounding box\n",
    "min_x = min(src.bounds.left for src in srcs)\n",
    "min_y= min(src.bounds.bottom for src in srcs)\n",
    "max_x = max(src.bounds.right for src in srcs)\n",
    "max_y = max(src.bounds.top for src in srcs)\n",
    "min_x, min_y, max_x, max_y"
   ]
  },
  {
   "cell_type": "code",
   "execution_count": 11,
   "metadata": {},
   "outputs": [
    {
     "data": {
      "text/plain": [
       "(124843, 100769)"
      ]
     },
     "execution_count": 11,
     "metadata": {},
     "output_type": "execute_result"
    }
   ],
   "source": [
    "# Calculate the dimensions of the common bounding box\n",
    "common_height = int(src.res[0] * (max_y - min_y))\n",
    "common_width = int(src.res[1] * (max_x - min_x))\n",
    "common_height, common_width"
   ]
  },
  {
   "cell_type": "code",
   "execution_count": 12,
   "metadata": {},
   "outputs": [],
   "source": [
    "# Calculate padding required for each mask\n",
    "padded_masks = []\n",
    "for mask, src in zip(masks, srcs):\n",
    "    left_pad = int((src.bounds.left - min_x) / src.res[0])\n",
    "    top_pad = int((max_y - src.bounds.top) / src.res[1])\n",
    "    right_pad = common_width - (mask.shape[1] + left_pad)\n",
    "    bottom_pad = common_height - (mask.shape[0] + top_pad)\n",
    "    \n",
    "    # Apply padding to the mask\n",
    "    padded_mask = np.pad(mask, ((top_pad, bottom_pad), (left_pad, right_pad)), mode='constant', constant_values=0)\n",
    "    padded_masks.append(padded_mask)"
   ]
  },
  {
   "cell_type": "code",
   "execution_count": 16,
   "metadata": {},
   "outputs": [
    {
     "data": {
      "text/plain": [
       "6"
      ]
     },
     "execution_count": 16,
     "metadata": {},
     "output_type": "execute_result"
    }
   ],
   "source": [
    "len(padded_masks)"
   ]
  },
  {
   "cell_type": "markdown",
   "metadata": {},
   "source": [
    "#### same as the previous steps, just combine everything in one block"
   ]
  },
  {
   "cell_type": "code",
   "execution_count": 5,
   "metadata": {},
   "outputs": [],
   "source": [
    "# Load each image and create masks\n",
    "image_paths = [\n",
    "    r\"Z:\\data_from_eosloan_reloc\\historical_data\\all_tiles_historical_resampled_500m\\500m_resize\\500m_resize_20060529_combined\\500m_resize_20060529_combined.tif\",\n",
    "    r\"Z:\\data_from_eosloan_reloc\\historical_data\\all_tiles_historical_resampled_500m\\500m_resize\\500m_resize_20080420_combined\\500m_resize_20080420_combined.tif\",\n",
    "    r\"Z:\\data_from_eosloan_reloc\\historical_data\\all_tiles_historical_resampled_500m\\500m_resize\\500m_resize_20100413_combined\\500m_resize_20100413_combined.tif\",\n",
    "    r\"Z:\\data_from_eosloan_reloc\\historical_data\\all_tiles_historical_resampled_500m\\output_folder\\output_20060529_combined\\output_20060529_combined.tif\",\n",
    "    r\"Z:\\data_from_eosloan_reloc\\historical_data\\all_tiles_historical_resampled_500m\\output_folder\\output_20080420_combined\\output_20080420_combined.tif\",\n",
    "    r\"Z:\\data_from_eosloan_reloc\\historical_data\\all_tiles_historical_resampled_500m\\output_folder\\output_20100413_combined\\output_20100413_combined.tif\"\n",
    "]\n",
    "\n",
    "masks = []\n",
    "srcs = []\n",
    "\n",
    "# Load each image and create mask\n",
    "for image_path in image_paths:\n",
    "    with rasterio.open(image_path) as src:\n",
    "        srcs.append(src)\n",
    "        mask = np.ones(src.shape, dtype=bool)\n",
    "        masks.append(mask)\n",
    "\n",
    "# Determine the common bounding box\n",
    "min_x = min(src.bounds.left for src in srcs)\n",
    "min_y = min(src.bounds.bottom for src in srcs)\n",
    "max_x = max(src.bounds.right for src in srcs)\n",
    "max_y = max(src.bounds.top for src in srcs)\n",
    "\n",
    "# Calculate the dimensions of the common bounding box\n",
    "common_height = int(src.res[0] * (max_y - min_y))\n",
    "common_width = int(src.res[1] * (max_x - min_x))\n",
    "\n",
    "# Calculate padding required for each mask\n",
    "padded_masks = []\n",
    "for mask, src in zip(masks, srcs):\n",
    "    left_pad = int((src.bounds.left - min_x) / src.res[0])\n",
    "    top_pad = int((max_y - src.bounds.top) / src.res[1])\n",
    "    right_pad = common_width - (mask.shape[1] + left_pad)\n",
    "    bottom_pad = common_height - (mask.shape[0] + top_pad)\n",
    "    \n",
    "    # Apply padding to the mask\n",
    "    padded_mask = np.pad(mask, ((top_pad, bottom_pad), (left_pad, right_pad)), mode='constant', constant_values=0)\n",
    "    padded_masks.append(padded_mask)"
   ]
  },
  {
   "cell_type": "code",
   "execution_count": null,
   "metadata": {},
   "outputs": [],
   "source": [
    "# impossible to combine the 6 masks directly, since it requires way too much memory\n",
    "# # Combine the padded masks to find the overlapping area\n",
    "# combined_mask = np.logical_and.reduce(padded_masks)"
   ]
  },
  {
   "cell_type": "markdown",
   "metadata": {},
   "source": [
    "#### divide masks into 3 chunks of 2 masks to process to lower memory requirement"
   ]
  },
  {
   "cell_type": "code",
   "execution_count": 6,
   "metadata": {},
   "outputs": [],
   "source": [
    "chunk_size = 2  # Define the chunk size\n",
    "chunks = [padded_masks[i:i+chunk_size] for i in range(0, len(padded_masks), chunk_size)]\n",
    "\n",
    "# Initialize combined_mask before the loop\n",
    "combined_mask = np.ones_like(padded_masks[0], dtype=bool)\n",
    "\n",
    "# Iterate over each chunk\n",
    "for chunk in chunks:\n",
    "    # Take the logical AND of each mask in the chunk with the combined_mask\n",
    "    for mask in chunk:\n",
    "        combined_mask = np.logical_and(combined_mask, mask)"
   ]
  },
  {
   "cell_type": "markdown",
   "metadata": {},
   "source": [
    "#### double checking the size of the combined mask"
   ]
  },
  {
   "cell_type": "code",
   "execution_count": 12,
   "metadata": {},
   "outputs": [
    {
     "name": "stdout",
     "output_type": "stream",
     "text": [
      "Combined Mask Size:\n",
      "Rows: 124843\n",
      "Columns: 100769\n"
     ]
    }
   ],
   "source": [
    "# Get the row and column size of the combined_mask\n",
    "combined_rows, combined_cols = combined_mask.shape\n",
    "\n",
    "# Print the row and column size\n",
    "print(\"Combined Mask Size:\")\n",
    "print(f\"Rows: {combined_rows}\")\n",
    "print(f\"Columns: {combined_cols}\")"
   ]
  },
  {
   "cell_type": "code",
   "execution_count": 14,
   "metadata": {},
   "outputs": [
    {
     "data": {
      "text/plain": [
       "124843"
      ]
     },
     "execution_count": 14,
     "metadata": {},
     "output_type": "execute_result"
    }
   ],
   "source": [
    "combined_mask.shape[0]"
   ]
  },
  {
   "cell_type": "markdown",
   "metadata": {},
   "source": [
    "#### Decide for each tile if they are inside the overlapping area"
   ]
  },
  {
   "cell_type": "code",
   "execution_count": 8,
   "metadata": {},
   "outputs": [],
   "source": [
    "# List of directories containing images\n",
    "directories = [\n",
    "    r\"Z:\\data_from_eosloan_reloc\\historical_data\\all_tiles_historical_resampled_500m\\500m_resize\\500m_resize_20060529\",\n",
    "    r\"Z:\\data_from_eosloan_reloc\\historical_data\\all_tiles_historical_resampled_500m\\500m_resize\\500m_resize_20080420\",\n",
    "    r\"Z:\\data_from_eosloan_reloc\\historical_data\\all_tiles_historical_resampled_500m\\500m_resize\\500m_resize_20100413\",\n",
    "    r\"Z:\\data_from_eosloan_reloc\\historical_data\\all_tiles_historical_resampled_500m\\output_folder\\output_20060529\",\n",
    "    r\"Z:\\data_from_eosloan_reloc\\historical_data\\all_tiles_historical_resampled_500m\\output_folder\\output_20080420\",\n",
    "    r\"Z:\\data_from_eosloan_reloc\\historical_data\\all_tiles_historical_resampled_500m\\output_folder\\output_20100413\"\n",
    "]\n",
    "# The binary mask for the overlapping area is the \"combined_mask\" we derived above"
   ]
  },
  {
   "cell_type": "markdown",
   "metadata": {},
   "source": [
    "#### Need to further explore why combined_mask only has 1 band while the images have 4 bands"
   ]
  },
  {
   "cell_type": "code",
   "execution_count": 11,
   "metadata": {},
   "outputs": [
    {
     "name": "stdout",
     "output_type": "stream",
     "text": [
      "Mask band shape: (100769,)\n",
      "Image band shape: (189, 168)\n"
     ]
    },
    {
     "ename": "IndexError",
     "evalue": "too many indices for array: array is 1-dimensional, but 2 were indexed",
     "output_type": "error",
     "traceback": [
      "\u001b[1;31m---------------------------------------------------------------------------\u001b[0m",
      "\u001b[1;31mIndexError\u001b[0m                                Traceback (most recent call last)",
      "Cell \u001b[1;32mIn[11], line 23\u001b[0m\n\u001b[0;32m     20\u001b[0m \u001b[38;5;28mprint\u001b[39m(\u001b[38;5;124m\"\u001b[39m\u001b[38;5;124mImage band shape:\u001b[39m\u001b[38;5;124m\"\u001b[39m, image_band\u001b[38;5;241m.\u001b[39mshape)\n\u001b[0;32m     22\u001b[0m \u001b[38;5;66;03m# Check if all pixels in the image band are within the overlapping area\u001b[39;00m\n\u001b[1;32m---> 23\u001b[0m fully_within_overlapping_area_band \u001b[38;5;241m=\u001b[39m np\u001b[38;5;241m.\u001b[39mall(\u001b[43mmask_band\u001b[49m\u001b[43m[\u001b[49m\u001b[43mimage_band\u001b[49m\u001b[43m \u001b[49m\u001b[38;5;241;43m>\u001b[39;49m\u001b[43m \u001b[49m\u001b[38;5;241;43m0\u001b[39;49m\u001b[43m]\u001b[49m \u001b[38;5;241m==\u001b[39m \u001b[38;5;241m1\u001b[39m)\n\u001b[0;32m     25\u001b[0m \u001b[38;5;66;03m# Update the overall flag for all bands\u001b[39;00m\n\u001b[0;32m     26\u001b[0m fully_within_overlapping_area \u001b[38;5;241m&\u001b[39m\u001b[38;5;241m=\u001b[39m fully_within_overlapping_area_band\n",
      "\u001b[1;31mIndexError\u001b[0m: too many indices for array: array is 1-dimensional, but 2 were indexed"
     ]
    }
   ],
   "source": [
    "# Iterate over each directory\n",
    "for directory in directories:\n",
    "    # Get the list of image files in the directory\n",
    "    image_files = [f for f in os.listdir(directory) if f.endswith('.tif')]\n",
    "    \n",
    "    # Iterate over each image file\n",
    "    for image_file in image_files:\n",
    "        # Load the image\n",
    "        image_path = os.path.join(directory, image_file)\n",
    "        with rasterio.open(image_path) as src:\n",
    "            image = src.read()  # Read all bands of the image\n",
    "\n",
    "        # Check if all pixels in the image are covered by the overlapping area\n",
    "        fully_within_overlapping_area = True\n",
    "        for band in range(combined_mask.shape[0]):\n",
    "            mask_band = combined_mask[band]\n",
    "            image_band = image[band]\n",
    "            \n",
    "            print(\"Mask band shape:\", mask_band.shape)\n",
    "            print(\"Image band shape:\", image_band.shape)\n",
    "\n",
    "            # Check if all pixels in the image band are within the overlapping area\n",
    "            fully_within_overlapping_area_band = np.all(mask_band[image_band > 0] == 1)\n",
    "\n",
    "            # Update the overall flag for all bands\n",
    "            fully_within_overlapping_area &= fully_within_overlapping_area_band\n",
    "        \n",
    "        # If the image is fully within the overlapping area, keep it\n",
    "        if fully_within_overlapping_area:\n",
    "            # Process or save the image as needed\n",
    "            print(f\"Image '{image_file}' in directory '{directory}' is fully within the overlapping area.\")\n",
    "        else:\n",
    "            # Discard the image\n",
    "            print(f\"Image '{image_file}' in directory '{directory}' is not fully within the overlapping area and will be discarded.\")"
   ]
  },
  {
   "cell_type": "markdown",
   "metadata": {},
   "source": [
    "#### before applying the combined mask to image, we need to first do spatially aware padding on image too"
   ]
  },
  {
   "cell_type": "code",
   "execution_count": 2,
   "metadata": {},
   "outputs": [],
   "source": [
    "# Define the image paths\n",
    "image_paths = [\n",
    "    r\"Z:\\data_from_eosloan_reloc\\historical_data\\all_tiles_historical_resampled_500m\\500m_resize\\500m_resize_20060529_combined\\500m_resize_20060529_combined.tif\",\n",
    "    r\"Z:\\data_from_eosloan_reloc\\historical_data\\all_tiles_historical_resampled_500m\\500m_resize\\500m_resize_20080420_combined\\500m_resize_20080420_combined.tif\",\n",
    "    r\"Z:\\data_from_eosloan_reloc\\historical_data\\all_tiles_historical_resampled_500m\\500m_resize\\500m_resize_20100413_combined\\500m_resize_20100413_combined.tif\",\n",
    "    r\"Z:\\data_from_eosloan_reloc\\historical_data\\all_tiles_historical_resampled_500m\\output_folder\\output_20060529_combined\\output_20060529_combined.tif\",\n",
    "    r\"Z:\\data_from_eosloan_reloc\\historical_data\\all_tiles_historical_resampled_500m\\output_folder\\output_20080420_combined\\output_20080420_combined.tif\",\n",
    "    r\"Z:\\data_from_eosloan_reloc\\historical_data\\all_tiles_historical_resampled_500m\\output_folder\\output_20100413_combined\\output_20100413_combined.tif\"\n",
    "]\n",
    "\n",
    "# Initialize lists to store the images and their corresponding source objects\n",
    "images = []\n",
    "srcs = []\n",
    "\n"
   ]
  },
  {
   "cell_type": "code",
   "execution_count": 4,
   "metadata": {},
   "outputs": [],
   "source": [
    "# Load each image and its corresponding source object\n",
    "for image_path in image_paths:\n",
    "    with rasterio.open(image_path) as src:\n",
    "        srcs.append(src)\n",
    "        image = src.read()  # Read the image data\n",
    "        images.append(image)"
   ]
  },
  {
   "cell_type": "markdown",
   "metadata": {},
   "source": [
    "#### trying to debug here"
   ]
  },
  {
   "cell_type": "code",
   "execution_count": 3,
   "metadata": {},
   "outputs": [],
   "source": [
    "with rasterio.open(image_paths[0]) as src:\n",
    "    image = src.read()  # Read the image data"
   ]
  },
  {
   "cell_type": "markdown",
   "metadata": {},
   "source": [
    "#### have to read image by chunks too since the images are too large to read in directly"
   ]
  },
  {
   "cell_type": "code",
   "execution_count": 4,
   "metadata": {},
   "outputs": [
    {
     "name": "stdout",
     "output_type": "stream",
     "text": [
      "Chunk shape: (4, 512, 512)\n",
      "Chunk shape: (4, 512, 512)\n",
      "Chunk shape: (4, 512, 512)\n",
      "Chunk shape: (4, 512, 512)\n",
      "Chunk shape: (4, 512, 512)\n",
      "Chunk shape: (4, 512, 512)\n",
      "Chunk shape: (4, 512, 512)\n",
      "Chunk shape: (4, 512, 512)\n",
      "Chunk shape: (4, 512, 512)\n",
      "Chunk shape: (4, 512, 512)\n",
      "Chunk shape: (4, 512, 512)\n",
      "Chunk shape: (4, 512, 406)\n",
      "Chunk shape: (4, 512, 512)\n",
      "Chunk shape: (4, 512, 512)\n",
      "Chunk shape: (4, 512, 512)\n",
      "Chunk shape: (4, 512, 512)\n",
      "Chunk shape: (4, 512, 512)\n",
      "Chunk shape: (4, 512, 512)\n",
      "Chunk shape: (4, 512, 512)\n",
      "Chunk shape: (4, 512, 512)\n",
      "Chunk shape: (4, 512, 512)\n",
      "Chunk shape: (4, 512, 512)\n",
      "Chunk shape: (4, 512, 512)\n",
      "Chunk shape: (4, 512, 406)\n",
      "Chunk shape: (4, 512, 512)\n",
      "Chunk shape: (4, 512, 512)\n",
      "Chunk shape: (4, 512, 512)\n",
      "Chunk shape: (4, 512, 512)\n",
      "Chunk shape: (4, 512, 512)\n",
      "Chunk shape: (4, 512, 512)\n",
      "Chunk shape: (4, 512, 512)\n",
      "Chunk shape: (4, 512, 512)\n",
      "Chunk shape: (4, 512, 512)\n",
      "Chunk shape: (4, 512, 512)\n",
      "Chunk shape: (4, 512, 512)\n",
      "Chunk shape: (4, 512, 406)\n",
      "Chunk shape: (4, 512, 512)\n",
      "Chunk shape: (4, 512, 512)\n",
      "Chunk shape: (4, 512, 512)\n",
      "Chunk shape: (4, 512, 512)\n",
      "Chunk shape: (4, 512, 512)\n",
      "Chunk shape: (4, 512, 512)\n",
      "Chunk shape: (4, 512, 512)\n",
      "Chunk shape: (4, 512, 512)\n",
      "Chunk shape: (4, 512, 512)\n",
      "Chunk shape: (4, 512, 512)\n",
      "Chunk shape: (4, 512, 512)\n",
      "Chunk shape: (4, 512, 406)\n",
      "Chunk shape: (4, 512, 512)\n",
      "Chunk shape: (4, 512, 512)\n",
      "Chunk shape: (4, 512, 512)\n",
      "Chunk shape: (4, 512, 512)\n",
      "Chunk shape: (4, 512, 512)\n",
      "Chunk shape: (4, 512, 512)\n",
      "Chunk shape: (4, 512, 512)\n",
      "Chunk shape: (4, 512, 512)\n",
      "Chunk shape: (4, 512, 512)\n",
      "Chunk shape: (4, 512, 512)\n",
      "Chunk shape: (4, 512, 512)\n",
      "Chunk shape: (4, 512, 406)\n",
      "Chunk shape: (4, 512, 512)\n",
      "Chunk shape: (4, 512, 512)\n",
      "Chunk shape: (4, 512, 512)\n",
      "Chunk shape: (4, 512, 512)\n",
      "Chunk shape: (4, 512, 512)\n",
      "Chunk shape: (4, 512, 512)\n",
      "Chunk shape: (4, 512, 512)\n",
      "Chunk shape: (4, 512, 512)\n",
      "Chunk shape: (4, 512, 512)\n",
      "Chunk shape: (4, 512, 512)\n",
      "Chunk shape: (4, 512, 512)\n",
      "Chunk shape: (4, 512, 406)\n",
      "Chunk shape: (4, 512, 512)\n",
      "Chunk shape: (4, 512, 512)\n",
      "Chunk shape: (4, 512, 512)\n",
      "Chunk shape: (4, 512, 512)\n",
      "Chunk shape: (4, 512, 512)\n",
      "Chunk shape: (4, 512, 512)\n",
      "Chunk shape: (4, 512, 512)\n",
      "Chunk shape: (4, 512, 512)\n",
      "Chunk shape: (4, 512, 512)\n",
      "Chunk shape: (4, 512, 512)\n",
      "Chunk shape: (4, 512, 512)\n",
      "Chunk shape: (4, 512, 406)\n",
      "Chunk shape: (4, 512, 512)\n",
      "Chunk shape: (4, 512, 512)\n",
      "Chunk shape: (4, 512, 512)\n",
      "Chunk shape: (4, 512, 512)\n",
      "Chunk shape: (4, 512, 512)\n",
      "Chunk shape: (4, 512, 512)\n",
      "Chunk shape: (4, 512, 512)\n",
      "Chunk shape: (4, 512, 512)\n",
      "Chunk shape: (4, 512, 512)\n",
      "Chunk shape: (4, 512, 512)\n",
      "Chunk shape: (4, 512, 512)\n",
      "Chunk shape: (4, 512, 406)\n",
      "Chunk shape: (4, 512, 512)\n",
      "Chunk shape: (4, 512, 512)\n",
      "Chunk shape: (4, 512, 512)\n",
      "Chunk shape: (4, 512, 512)\n",
      "Chunk shape: (4, 512, 512)\n",
      "Chunk shape: (4, 512, 512)\n",
      "Chunk shape: (4, 512, 512)\n",
      "Chunk shape: (4, 512, 512)\n",
      "Chunk shape: (4, 512, 512)\n",
      "Chunk shape: (4, 512, 512)\n",
      "Chunk shape: (4, 512, 512)\n",
      "Chunk shape: (4, 512, 406)\n",
      "Chunk shape: (4, 512, 512)\n",
      "Chunk shape: (4, 512, 512)\n",
      "Chunk shape: (4, 512, 512)\n",
      "Chunk shape: (4, 512, 512)\n",
      "Chunk shape: (4, 512, 512)\n",
      "Chunk shape: (4, 512, 512)\n",
      "Chunk shape: (4, 512, 512)\n",
      "Chunk shape: (4, 512, 512)\n",
      "Chunk shape: (4, 512, 512)\n",
      "Chunk shape: (4, 512, 512)\n",
      "Chunk shape: (4, 512, 512)\n",
      "Chunk shape: (4, 512, 406)\n",
      "Chunk shape: (4, 512, 512)\n",
      "Chunk shape: (4, 512, 512)\n",
      "Chunk shape: (4, 512, 512)\n",
      "Chunk shape: (4, 512, 512)\n",
      "Chunk shape: (4, 512, 512)\n",
      "Chunk shape: (4, 512, 512)\n",
      "Chunk shape: (4, 512, 512)\n",
      "Chunk shape: (4, 512, 512)\n",
      "Chunk shape: (4, 512, 512)\n",
      "Chunk shape: (4, 512, 512)\n",
      "Chunk shape: (4, 512, 512)\n",
      "Chunk shape: (4, 512, 406)\n",
      "Chunk shape: (4, 512, 512)\n",
      "Chunk shape: (4, 512, 512)\n",
      "Chunk shape: (4, 512, 512)\n",
      "Chunk shape: (4, 512, 512)\n",
      "Chunk shape: (4, 512, 512)\n",
      "Chunk shape: (4, 512, 512)\n",
      "Chunk shape: (4, 512, 512)\n",
      "Chunk shape: (4, 512, 512)\n",
      "Chunk shape: (4, 512, 512)\n",
      "Chunk shape: (4, 512, 512)\n",
      "Chunk shape: (4, 512, 512)\n",
      "Chunk shape: (4, 512, 406)\n",
      "Chunk shape: (4, 512, 512)\n",
      "Chunk shape: (4, 512, 512)\n",
      "Chunk shape: (4, 512, 512)\n",
      "Chunk shape: (4, 512, 512)\n",
      "Chunk shape: (4, 512, 512)\n",
      "Chunk shape: (4, 512, 512)\n",
      "Chunk shape: (4, 512, 512)\n",
      "Chunk shape: (4, 512, 512)\n",
      "Chunk shape: (4, 512, 512)\n",
      "Chunk shape: (4, 512, 512)\n",
      "Chunk shape: (4, 512, 512)\n",
      "Chunk shape: (4, 512, 406)\n",
      "Chunk shape: (4, 512, 512)\n",
      "Chunk shape: (4, 512, 512)\n",
      "Chunk shape: (4, 512, 512)\n",
      "Chunk shape: (4, 512, 512)\n",
      "Chunk shape: (4, 512, 512)\n",
      "Chunk shape: (4, 512, 512)\n",
      "Chunk shape: (4, 512, 512)\n",
      "Chunk shape: (4, 512, 512)\n",
      "Chunk shape: (4, 512, 512)\n",
      "Chunk shape: (4, 512, 512)\n",
      "Chunk shape: (4, 512, 512)\n",
      "Chunk shape: (4, 512, 406)\n",
      "Chunk shape: (4, 512, 512)\n",
      "Chunk shape: (4, 512, 512)\n",
      "Chunk shape: (4, 512, 512)\n",
      "Chunk shape: (4, 512, 512)\n",
      "Chunk shape: (4, 512, 512)\n",
      "Chunk shape: (4, 512, 512)\n",
      "Chunk shape: (4, 512, 512)\n",
      "Chunk shape: (4, 512, 512)\n",
      "Chunk shape: (4, 512, 512)\n",
      "Chunk shape: (4, 512, 512)\n",
      "Chunk shape: (4, 512, 512)\n",
      "Chunk shape: (4, 512, 406)\n",
      "Chunk shape: (4, 512, 512)\n",
      "Chunk shape: (4, 512, 512)\n",
      "Chunk shape: (4, 512, 512)\n",
      "Chunk shape: (4, 512, 512)\n",
      "Chunk shape: (4, 512, 512)\n",
      "Chunk shape: (4, 512, 512)\n",
      "Chunk shape: (4, 512, 512)\n",
      "Chunk shape: (4, 512, 512)\n",
      "Chunk shape: (4, 512, 512)\n",
      "Chunk shape: (4, 512, 512)\n",
      "Chunk shape: (4, 512, 512)\n",
      "Chunk shape: (4, 512, 406)\n",
      "Chunk shape: (4, 512, 512)\n",
      "Chunk shape: (4, 512, 512)\n",
      "Chunk shape: (4, 512, 512)\n",
      "Chunk shape: (4, 512, 512)\n",
      "Chunk shape: (4, 512, 512)\n",
      "Chunk shape: (4, 512, 512)\n",
      "Chunk shape: (4, 512, 512)\n",
      "Chunk shape: (4, 512, 512)\n",
      "Chunk shape: (4, 512, 512)\n",
      "Chunk shape: (4, 512, 512)\n",
      "Chunk shape: (4, 512, 512)\n",
      "Chunk shape: (4, 512, 406)\n",
      "Chunk shape: (4, 512, 512)\n",
      "Chunk shape: (4, 512, 512)\n",
      "Chunk shape: (4, 512, 512)\n",
      "Chunk shape: (4, 512, 512)\n",
      "Chunk shape: (4, 512, 512)\n",
      "Chunk shape: (4, 512, 512)\n",
      "Chunk shape: (4, 512, 512)\n",
      "Chunk shape: (4, 512, 512)\n",
      "Chunk shape: (4, 512, 512)\n",
      "Chunk shape: (4, 512, 512)\n",
      "Chunk shape: (4, 512, 512)\n",
      "Chunk shape: (4, 512, 406)\n",
      "Chunk shape: (4, 512, 512)\n",
      "Chunk shape: (4, 512, 512)\n",
      "Chunk shape: (4, 512, 512)\n",
      "Chunk shape: (4, 512, 512)\n",
      "Chunk shape: (4, 512, 512)\n",
      "Chunk shape: (4, 512, 512)\n",
      "Chunk shape: (4, 512, 512)\n",
      "Chunk shape: (4, 512, 512)\n",
      "Chunk shape: (4, 512, 512)\n",
      "Chunk shape: (4, 512, 512)\n",
      "Chunk shape: (4, 512, 512)\n",
      "Chunk shape: (4, 512, 406)\n",
      "Chunk shape: (4, 512, 512)\n",
      "Chunk shape: (4, 512, 512)\n",
      "Chunk shape: (4, 512, 512)\n",
      "Chunk shape: (4, 512, 512)\n",
      "Chunk shape: (4, 512, 512)\n",
      "Chunk shape: (4, 512, 512)\n",
      "Chunk shape: (4, 512, 512)\n",
      "Chunk shape: (4, 512, 512)\n",
      "Chunk shape: (4, 512, 512)\n",
      "Chunk shape: (4, 512, 512)\n",
      "Chunk shape: (4, 512, 512)\n",
      "Chunk shape: (4, 512, 406)\n",
      "Chunk shape: (4, 512, 512)\n",
      "Chunk shape: (4, 512, 512)\n",
      "Chunk shape: (4, 512, 512)\n",
      "Chunk shape: (4, 512, 512)\n",
      "Chunk shape: (4, 512, 512)\n",
      "Chunk shape: (4, 512, 512)\n",
      "Chunk shape: (4, 512, 512)\n",
      "Chunk shape: (4, 512, 512)\n",
      "Chunk shape: (4, 512, 512)\n",
      "Chunk shape: (4, 512, 512)\n",
      "Chunk shape: (4, 512, 512)\n",
      "Chunk shape: (4, 512, 406)\n",
      "Chunk shape: (4, 512, 512)\n",
      "Chunk shape: (4, 512, 512)\n",
      "Chunk shape: (4, 512, 512)\n",
      "Chunk shape: (4, 512, 512)\n",
      "Chunk shape: (4, 512, 512)\n",
      "Chunk shape: (4, 512, 512)\n",
      "Chunk shape: (4, 512, 512)\n",
      "Chunk shape: (4, 512, 512)\n",
      "Chunk shape: (4, 512, 512)\n",
      "Chunk shape: (4, 512, 512)\n",
      "Chunk shape: (4, 512, 512)\n",
      "Chunk shape: (4, 512, 406)\n",
      "Chunk shape: (4, 512, 512)\n",
      "Chunk shape: (4, 512, 512)\n",
      "Chunk shape: (4, 512, 512)\n",
      "Chunk shape: (4, 512, 512)\n",
      "Chunk shape: (4, 512, 512)\n",
      "Chunk shape: (4, 512, 512)\n",
      "Chunk shape: (4, 512, 512)\n",
      "Chunk shape: (4, 512, 512)\n",
      "Chunk shape: (4, 512, 512)\n",
      "Chunk shape: (4, 512, 512)\n",
      "Chunk shape: (4, 512, 512)\n",
      "Chunk shape: (4, 512, 406)\n",
      "Chunk shape: (4, 512, 512)\n",
      "Chunk shape: (4, 512, 512)\n",
      "Chunk shape: (4, 512, 512)\n",
      "Chunk shape: (4, 512, 512)\n",
      "Chunk shape: (4, 512, 512)\n",
      "Chunk shape: (4, 512, 512)\n",
      "Chunk shape: (4, 512, 512)\n",
      "Chunk shape: (4, 512, 512)\n",
      "Chunk shape: (4, 512, 512)\n",
      "Chunk shape: (4, 512, 512)\n",
      "Chunk shape: (4, 512, 512)\n",
      "Chunk shape: (4, 512, 406)\n",
      "Chunk shape: (4, 512, 512)\n",
      "Chunk shape: (4, 512, 512)\n",
      "Chunk shape: (4, 512, 512)\n",
      "Chunk shape: (4, 512, 512)\n",
      "Chunk shape: (4, 512, 512)\n",
      "Chunk shape: (4, 512, 512)\n",
      "Chunk shape: (4, 512, 512)\n",
      "Chunk shape: (4, 512, 512)\n",
      "Chunk shape: (4, 512, 512)\n",
      "Chunk shape: (4, 512, 512)\n",
      "Chunk shape: (4, 512, 512)\n",
      "Chunk shape: (4, 512, 406)\n",
      "Chunk shape: (4, 512, 512)\n",
      "Chunk shape: (4, 512, 512)\n",
      "Chunk shape: (4, 512, 512)\n",
      "Chunk shape: (4, 512, 512)\n",
      "Chunk shape: (4, 512, 512)\n",
      "Chunk shape: (4, 512, 512)\n",
      "Chunk shape: (4, 512, 512)\n",
      "Chunk shape: (4, 512, 512)\n",
      "Chunk shape: (4, 512, 512)\n",
      "Chunk shape: (4, 512, 512)\n",
      "Chunk shape: (4, 512, 512)\n",
      "Chunk shape: (4, 512, 406)\n",
      "Chunk shape: (4, 512, 512)\n",
      "Chunk shape: (4, 512, 512)\n",
      "Chunk shape: (4, 512, 512)\n",
      "Chunk shape: (4, 512, 512)\n",
      "Chunk shape: (4, 512, 512)\n",
      "Chunk shape: (4, 512, 512)\n",
      "Chunk shape: (4, 512, 512)\n",
      "Chunk shape: (4, 512, 512)\n",
      "Chunk shape: (4, 512, 512)\n",
      "Chunk shape: (4, 512, 512)\n",
      "Chunk shape: (4, 512, 512)\n",
      "Chunk shape: (4, 512, 406)\n",
      "Chunk shape: (4, 45, 512)\n",
      "Chunk shape: (4, 45, 512)\n",
      "Chunk shape: (4, 45, 512)\n",
      "Chunk shape: (4, 45, 512)\n",
      "Chunk shape: (4, 45, 512)\n",
      "Chunk shape: (4, 45, 512)\n",
      "Chunk shape: (4, 45, 512)\n",
      "Chunk shape: (4, 45, 512)\n",
      "Chunk shape: (4, 45, 512)\n",
      "Chunk shape: (4, 45, 512)\n",
      "Chunk shape: (4, 45, 512)\n",
      "Chunk shape: (4, 45, 406)\n"
     ]
    }
   ],
   "source": [
    "def read_image_chunks(image_path, chunk_size=(512, 512)):\n",
    "    \"\"\"\n",
    "    Read an image in chunks.\n",
    "    \n",
    "    Args:\n",
    "    - image_path (str): Path to the image file.\n",
    "    - chunk_size (tuple): Size of each chunk in pixels (height, width).\n",
    "    \n",
    "    Returns:\n",
    "    - Generator: Yields chunks of the image as numpy arrays.\n",
    "    \"\"\"\n",
    "    with rasterio.open(image_path) as src:\n",
    "        # Get image dimensions\n",
    "        height, width = src.height, src.width\n",
    "        \n",
    "        # Determine the number of chunks in each dimension\n",
    "        num_chunks_height = (height + chunk_size[0] - 1) // chunk_size[0]\n",
    "        num_chunks_width = (width + chunk_size[1] - 1) // chunk_size[1]\n",
    "        \n",
    "        # Iterate over chunks\n",
    "        for chunk_row in range(num_chunks_height):\n",
    "            for chunk_col in range(num_chunks_width):\n",
    "                # Calculate chunk window\n",
    "                row_start = chunk_row * chunk_size[0]\n",
    "                row_end = min((chunk_row + 1) * chunk_size[0], height)\n",
    "                col_start = chunk_col * chunk_size[1]\n",
    "                col_end = min((chunk_col + 1) * chunk_size[1], width)\n",
    "                \n",
    "                # Read chunk from the image\n",
    "                chunk = src.read(window=((row_start, row_end), (col_start, col_end)))\n",
    "                \n",
    "                yield chunk\n",
    "\n",
    "# Example usage:\n",
    "image_path =image_paths[0]\n",
    "for chunk in read_image_chunks(image_path, chunk_size=(512, 512)):\n",
    "    # Process each chunk as needed\n",
    "    print(\"Chunk shape:\", chunk.shape)\n"
   ]
  },
  {
   "cell_type": "code",
   "execution_count": null,
   "metadata": {},
   "outputs": [],
   "source": [
    "\n",
    "\n",
    "# Determine the common bounding box\n",
    "min_x = min(src.bounds.left for src in srcs)\n",
    "min_y = min(src.bounds.bottom for src in srcs)\n",
    "max_x = max(src.bounds.right for src in srcs)\n",
    "max_y = max(src.bounds.top for src in srcs)\n",
    "\n",
    "# Calculate the dimensions of the common bounding box\n",
    "common_height = int(src.res[0] * (max_y - min_y))\n",
    "common_width = int(src.res[1] * (max_x - min_x))"
   ]
  },
  {
   "cell_type": "code",
   "execution_count": null,
   "metadata": {},
   "outputs": [],
   "source": [
    "# Calculate padding required for each image\n",
    "padded_images = []\n",
    "for image, src in zip(images, srcs):\n",
    "    left_pad = int((src.bounds.left - min_x) / src.res[0])\n",
    "    top_pad = int((max_y - src.bounds.top) / src.res[1])\n",
    "    right_pad = common_width - (image.shape[2] + left_pad)\n",
    "    bottom_pad = common_height - (image.shape[1] + top_pad)\n",
    "    \n",
    "    # Apply padding to the image\n",
    "    padded_image = np.pad(image, ((0, 0), (top_pad, bottom_pad), (left_pad, right_pad)), mode='constant', constant_values=0)\n",
    "    padded_images.append(padded_image)"
   ]
  },
  {
   "cell_type": "markdown",
   "metadata": {},
   "source": [
    "#### apply the combined mask to each image"
   ]
  },
  {
   "cell_type": "code",
   "execution_count": 17,
   "metadata": {},
   "outputs": [
    {
     "ename": "RasterioIOError",
     "evalue": "Dataset is closed: Z:/data_from_eosloan_reloc/historical_data/all_tiles_historical_resampled_500m/500m_resize/500m_resize_20060529_combined/500m_resize_20060529_combined.tif",
     "output_type": "error",
     "traceback": [
      "\u001b[1;31m---------------------------------------------------------------------------\u001b[0m",
      "\u001b[1;31mRasterioIOError\u001b[0m                           Traceback (most recent call last)",
      "Cell \u001b[1;32mIn[17], line 6\u001b[0m\n\u001b[0;32m      4\u001b[0m \u001b[38;5;66;03m# Save the overlapping area as a new image\u001b[39;00m\n\u001b[0;32m      5\u001b[0m output_path \u001b[38;5;241m=\u001b[39m \u001b[38;5;124m\"\u001b[39m\u001b[38;5;124moutput_overlapping_area.tif\u001b[39m\u001b[38;5;124m\"\u001b[39m\n\u001b[1;32m----> 6\u001b[0m \u001b[38;5;28;01mwith\u001b[39;00m rasterio\u001b[38;5;241m.\u001b[39mopen(output_path, \u001b[38;5;124m'\u001b[39m\u001b[38;5;124mw\u001b[39m\u001b[38;5;124m'\u001b[39m, \u001b[38;5;241m*\u001b[39m\u001b[38;5;241m*\u001b[39m\u001b[43msrc\u001b[49m\u001b[38;5;241;43m.\u001b[39;49m\u001b[43mprofile\u001b[49m) \u001b[38;5;28;01mas\u001b[39;00m dst:\n\u001b[0;32m      7\u001b[0m     dst\u001b[38;5;241m.\u001b[39mwrite(padded_mask\u001b[38;5;241m.\u001b[39mastype(np\u001b[38;5;241m.\u001b[39muint8) \u001b[38;5;241m*\u001b[39m combined_mask)\n",
      "File \u001b[1;32mrasterio\\\\_base.pyx:1029\u001b[0m, in \u001b[0;36mrasterio._base.DatasetBase.profile.__get__\u001b[1;34m()\u001b[0m\n",
      "File \u001b[1;32mrasterio\\\\_base.pyx:1008\u001b[0m, in \u001b[0;36mrasterio._base.DatasetBase.is_tiled.__get__\u001b[1;34m()\u001b[0m\n",
      "File \u001b[1;32mrasterio\\\\_base.pyx:528\u001b[0m, in \u001b[0;36mrasterio._base.DatasetBase.block_shapes.__get__\u001b[1;34m()\u001b[0m\n",
      "File \u001b[1;32mrasterio\\\\_base.pyx:367\u001b[0m, in \u001b[0;36mrasterio._base.DatasetBase.band\u001b[1;34m()\u001b[0m\n",
      "File \u001b[1;32mrasterio\\\\_base.pyx:360\u001b[0m, in \u001b[0;36mrasterio._base.DatasetBase.handle\u001b[1;34m()\u001b[0m\n",
      "\u001b[1;31mRasterioIOError\u001b[0m: Dataset is closed: Z:/data_from_eosloan_reloc/historical_data/all_tiles_historical_resampled_500m/500m_resize/500m_resize_20060529_combined/500m_resize_20060529_combined.tif"
     ]
    }
   ],
   "source": []
  },
  {
   "cell_type": "code",
   "execution_count": 23,
   "metadata": {},
   "outputs": [],
   "source": [
    "# Apply the combined mask to each image\n",
    "for image_path in image_paths:\n",
    "    with rasterio.open(image_path) as src:\n",
    "        # Read the image data\n",
    "        image = src.read()\n",
    "\n",
    "        # Apply the combined mask to extract overlapping area\n",
    "        overlapping_area = image * combined_mask\n",
    "\n",
    "        # Save the overlapping area as a new image\n",
    "        output_path = image_path.replace(\".tif\", \"_overlapping_area.tif\")\n",
    "        with rasterio.open(output_path, 'w', **src.profile) as dst:\n",
    "            dst.write(overlapping_area)"
   ]
  },
  {
   "cell_type": "code",
   "execution_count": null,
   "metadata": {},
   "outputs": [],
   "source": []
  },
  {
   "cell_type": "code",
   "execution_count": null,
   "metadata": {},
   "outputs": [],
   "source": [
    "# # Loop over each raster\n",
    "# for i, raster in enumerate(rasters):\n",
    "#     # Get the current raster's bounds\n",
    "#     r_min_x, r_min_y, r_max_x, r_max_y = raster.bounds\n",
    "    \n",
    "#     # Calculate the padding amounts\n",
    "#     left_pad = min_x - r_min_x\n",
    "#     right_pad = max_x - r_max_x\n",
    "#     top_pad = max_y - r_max_y\n",
    "#     bottom_pad = min_y - r_min_y\n",
    "    \n",
    "#     # Update the transform to include padding\n",
    "#     padded_transform = from_bounds(min_x - left_pad, min_y - bottom_pad, max_x + right_pad, max_y + top_pad, common_width, common_height)\n",
    "    \n",
    "#     # Pad the raster\n",
    "#   padded_data = raster.read(1)  # Assuming a single band raster\n",
    "#     padded_data, padded_transform = rasterio.pad(padded_data, padded_transform, pad_width=((top_pad, bottom_pad), (left_pad, right_pad)), mode='constant', constant_values=0)\n",
    "    \n",
    "#    # Update the raster metadata with padded shape and transform\n",
    "#     profile = raster.profile\n",
    "#     profile.update(height=padded_data.shape[0], width=padded_data.shape[1], transform=padded_transform)\n",
    "    \n",
    "#     # Save the padded raster to a new file\n",
    "#     output_file = f'padded_raster_{i}.tif'  # Adjust output file name as needed\n",
    "#     with rasterio.open(output_file, 'w', **profile) as dst:\n",
    "#         dst.write(padded_data, 1)\n"
   ]
  },
  {
   "cell_type": "markdown",
   "metadata": {},
   "source": [
    "### Apply the combined mask"
   ]
  },
  {
   "cell_type": "code",
   "execution_count": null,
   "metadata": {},
   "outputs": [],
   "source": [
    "def apply_combined_mask(image_path, combined_mask):\n",
    "    with rasterio.open(image_path) as src:\n",
    "        image_data = src.read(1)\n",
    "\n",
    "        # Apply the combined binary mask\n",
    "        masked_data = np.where(combined_mask, image_data, 0)\n",
    "\n",
    "        return masked_data"
   ]
  },
  {
   "cell_type": "markdown",
   "metadata": {},
   "source": [
    "### Plot the original and the masked images"
   ]
  },
  {
   "cell_type": "code",
   "execution_count": null,
   "metadata": {},
   "outputs": [],
   "source": [
    "def plot_masked_image(image_path, masked_data):\n",
    "    with rasterio.open(image_path) as src:\n",
    "        fig, axes = plt.subplots(1, 2, figsize=(12, 6))\n",
    "\n",
    "        axes[0].imshow(src.read(1), cmap='gray')\n",
    "        axes[0].set_title('Original Image')\n",
    "\n",
    "        axes[1].imshow(masked_data, cmap='gray')\n",
    "        axes[1].set_title('Masked Image')\n",
    "\n",
    "        plt.show()"
   ]
  },
  {
   "cell_type": "code",
   "execution_count": null,
   "metadata": {},
   "outputs": [],
   "source": [
    "if __name__ == \"__main__\":\n",
    "    # Provide paths to your three raster images\n",
    "    image_path1 = \"C:\\Users\\yixiu\\data_from_eosloan_reloc\\historical_data\\all_tiles_historical_resampled_500m\\16bit_20060529_combined\\output_mosaic_20060529.tif\"\n",
    "    image_path2 = \"C:\\Users\\yixiu\\data_from_eosloan_reloc\\historical_data\\all_tiles_historical_resampled_500m\\16bit_20060529_combined\\output_mosaic_20080420.tif\"\n",
    "    image_path3 = \"C:\\Users\\yixiu\\data_from_eosloan_reloc\\historical_data\\all_tiles_historical_resampled_500m\\16bit_20060529_combined\\output_mosaic_20100413.tif\"\n",
    "\n",
    "    # Create binary masks for each image\n",
    "    mask1 = create_binary_mask(image_path1)\n",
    "    mask2 = create_binary_mask(image_path2)\n",
    "    mask3 = create_binary_mask(image_path3)\n",
    "\n",
    "    # Combine the masks to get the common overlapping area\n",
    "    combined_mask = combine_masks(mask1, mask2, mask3)\n",
    "\n",
    "    # Apply the combined mask to each image\n",
    "    masked_data1 = apply_combined_mask(image_path1, combined_mask)\n",
    "    masked_data2 = apply_combined_mask(image_path2, combined_mask)\n",
    "    masked_data3 = apply_combined_mask(image_path3, combined_mask)\n",
    "    \n",
    "    # Now, masked_data1, masked_data2, and masked_data3 contain the overlapping areas of the three images\n",
    "    \n",
    "    # Plot the original images and the masked images\n",
    "    plot_masked_image(image_path1, masked_data1)\n",
    "    plot_masked_image(image_path2, masked_data2)\n",
    "    plot_masked_image(image_path3, masked_data3)"
   ]
  }
 ],
 "metadata": {
  "kernelspec": {
   "display_name": "Python 3",
   "language": "python",
   "name": "python3"
  },
  "language_info": {
   "codemirror_mode": {
    "name": "ipython",
    "version": 3
   },
   "file_extension": ".py",
   "mimetype": "text/x-python",
   "name": "python",
   "nbconvert_exporter": "python",
   "pygments_lexer": "ipython3",
   "version": "3.11.4"
  }
 },
 "nbformat": 4,
 "nbformat_minor": 2
}

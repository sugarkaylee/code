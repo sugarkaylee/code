{
 "cells": [
  {
   "cell_type": "code",
   "execution_count": 3,
   "metadata": {},
   "outputs": [],
   "source": [
    "import os\n",
    "import glob\n",
    "import rasterio\n",
    "from rasterio.features import geometry_mask\n",
    "from shapely.geometry import shape\n",
    "import numpy as np\n",
    "import matplotlib.pyplot as plt\n",
    "from rasterio.merge import merge\n",
    "from rasterio.transform import from_origin"
   ]
  },
  {
   "cell_type": "markdown",
   "metadata": {},
   "source": [
    "## Merging all tif images into one tif image"
   ]
  },
  {
   "cell_type": "markdown",
   "metadata": {},
   "source": [
    "### Create the variable \"tif_paths\" that contain all image directories"
   ]
  },
  {
   "cell_type": "code",
   "execution_count": null,
   "metadata": {},
   "outputs": [],
   "source": [
    "# Folder containing GeoTIFF images\n",
    "folder_path = r\"C:\\Users\\yixiu\\data_from_eosloan_reloc\\historical_data\\all_tiles_historical_resampled_500m\\16bit_20060529\"\n",
    "\n",
    "# Define the search pattern for GeoTIFF files\n",
    "tif_pattern = os.path.join(folder_path, \"*.tif\")\n",
    "\n",
    "# Use glob to get a list of all GeoTIFF files in the folder\n",
    "tif_paths = glob.glob(tif_pattern)\n",
    "\n",
    "# Print the list of GeoTIFF paths\n",
    "for tif_path in tif_paths:\n",
    "    print(tif_path)"
   ]
  },
  {
   "cell_type": "markdown",
   "metadata": {},
   "source": [
    "### Merge all the images"
   ]
  },
  {
   "cell_type": "code",
   "execution_count": 5,
   "metadata": {},
   "outputs": [],
   "source": [
    "# Open all GeoTIFFs\n",
    "src_files_to_mosaic = [rasterio.open(path) for path in tif_paths]\n",
    "\n",
    "# Merge images\n",
    "mosaic, out_trans = merge(src_files_to_mosaic)\n",
    "\n",
    "# Create an output GeoTIFF\n",
    "out_meta = src_files_to_mosaic[0].meta.copy()\n",
    "out_meta.update({\"driver\": \"GTiff\",\n",
    "                 \"height\": mosaic.shape[1],\n",
    "                 \"width\": mosaic.shape[2],\n",
    "                 \"transform\": out_trans})\n",
    "\n",
    "# Write the mosaic to a new GeoTIFF file\n",
    "with rasterio.open(r\"C:\\Users\\yixiu\\data_from_eosloan_reloc\\historical_data\\all_tiles_historical_resampled_500m\\16bit_20060529_combined\\output_mosaic.tif\", \"w\", **out_meta) as dest:\n",
    "    dest.write(mosaic)"
   ]
  },
  {
   "cell_type": "markdown",
   "metadata": {},
   "source": [
    "## Determine overlapping area"
   ]
  },
  {
   "cell_type": "markdown",
   "metadata": {},
   "source": [
    "### Create the function to create binary mask"
   ]
  },
  {
   "cell_type": "code",
   "execution_count": null,
   "metadata": {},
   "outputs": [],
   "source": [
    "def create_binary_mask(image_path):\n",
    "    with rasterio.open(image_path) as src:\n",
    "        # Get the full geometry of the image\n",
    "        full_geometry = src.shape\n",
    "\n",
    "        # Create a binary mask for the entire image\n",
    "        mask = geometry_mask([full_geometry], transform=src.transform, invert=False, out_shape=src.shape, dtype='bool')\n",
    "        return mask"
   ]
  },
  {
   "cell_type": "markdown",
   "metadata": {},
   "source": [
    "### Combine all three masks"
   ]
  },
  {
   "cell_type": "code",
   "execution_count": null,
   "metadata": {},
   "outputs": [],
   "source": [
    "def combine_masks(mask1, mask2, mask3):\n",
    "    # Combine three binary masks using logical AND\n",
    "    combined_mask = np.logical_and(np.logical_and(mask1, mask2), mask3)\n",
    "    return combined_mask"
   ]
  },
  {
   "cell_type": "markdown",
   "metadata": {},
   "source": [
    "### Apply the combined mask to determine overlapping area"
   ]
  },
  {
   "cell_type": "code",
   "execution_count": null,
   "metadata": {},
   "outputs": [],
   "source": [
    "def apply_combined_mask(image_path, combined_mask):\n",
    "    with rasterio.open(image_path) as src:\n",
    "        image_data = src.read(1)\n",
    "\n",
    "        # Apply the combined binary mask\n",
    "        masked_data = np.where(combined_mask, image_data, 0)\n",
    "\n",
    "        return masked_data"
   ]
  },
  {
   "cell_type": "markdown",
   "metadata": {},
   "source": [
    "### Plot the original and the masked images"
   ]
  },
  {
   "cell_type": "code",
   "execution_count": null,
   "metadata": {},
   "outputs": [],
   "source": [
    "def plot_masked_image(image_path, masked_data):\n",
    "    with rasterio.open(image_path) as src:\n",
    "        fig, axes = plt.subplots(1, 2, figsize=(12, 6))\n",
    "\n",
    "        axes[0].imshow(src.read(1), cmap='gray')\n",
    "        axes[0].set_title('Original Image')\n",
    "\n",
    "        axes[1].imshow(masked_data, cmap='gray')\n",
    "        axes[1].set_title('Masked Image')\n",
    "\n",
    "        plt.show()"
   ]
  },
  {
   "cell_type": "code",
   "execution_count": null,
   "metadata": {},
   "outputs": [],
   "source": [
    "if __name__ == \"__main__\":\n",
    "    # Provide paths to your three raster images\n",
    "    image_path1 = \"C:\\Users\\yixiu\\data_from_eosloan_reloc\\historical_data\\all_tiles_historical_resampled_500m\\16bit_20060529_combined\\output_mosaic_20060529.tif\"\n",
    "    image_path2 = \"C:\\Users\\yixiu\\data_from_eosloan_reloc\\historical_data\\all_tiles_historical_resampled_500m\\16bit_20060529_combined\\output_mosaic_20080420.tif\"\n",
    "    image_path3 = \"C:\\Users\\yixiu\\data_from_eosloan_reloc\\historical_data\\all_tiles_historical_resampled_500m\\16bit_20060529_combined\\output_mosaic_20100413.tif\"\n",
    "\n",
    "    # Create binary masks for each image\n",
    "    mask1 = create_binary_mask(image_path1)\n",
    "    mask2 = create_binary_mask(image_path2)\n",
    "    mask3 = create_binary_mask(image_path3)\n",
    "\n",
    "    # Combine the masks to get the common overlapping area\n",
    "    combined_mask = combine_masks(mask1, mask2, mask3)\n",
    "\n",
    "    # Apply the combined mask to each image\n",
    "    masked_data1 = apply_combined_mask(image_path1, combined_mask)\n",
    "    masked_data2 = apply_combined_mask(image_path2, combined_mask)\n",
    "    masked_data3 = apply_combined_mask(image_path3, combined_mask)\n",
    "    \n",
    "    # Now, masked_data1, masked_data2, and masked_data3 contain the overlapping areas of the three images\n",
    "    \n",
    "    # Plot the original images and the masked images\n",
    "    plot_masked_image(image_path1, masked_data1)\n",
    "    plot_masked_image(image_path2, masked_data2)\n",
    "    plot_masked_image(image_path3, masked_data3)"
   ]
  }
 ],
 "metadata": {
  "kernelspec": {
   "display_name": "Python 3",
   "language": "python",
   "name": "python3"
  },
  "language_info": {
   "codemirror_mode": {
    "name": "ipython",
    "version": 3
   },
   "file_extension": ".py",
   "mimetype": "text/x-python",
   "name": "python",
   "nbconvert_exporter": "python",
   "pygments_lexer": "ipython3",
   "version": "3.11.3"
  }
 },
 "nbformat": 4,
 "nbformat_minor": 2
}

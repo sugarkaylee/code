{
 "cells": [
  {
   "cell_type": "code",
   "execution_count": 1,
   "metadata": {},
   "outputs": [],
   "source": [
    "import os\n",
    "import random\n",
    "import shutil\n",
    "import glob"
   ]
  },
  {
   "cell_type": "code",
   "execution_count": 9,
   "metadata": {},
   "outputs": [],
   "source": [
    "sample_size = 100"
   ]
  },
  {
   "cell_type": "code",
   "execution_count": 14,
   "metadata": {},
   "outputs": [],
   "source": [
    "source_directory = r'C:\\Users\\yixiu\\data_from_eosloan_reloc\\historical_data\\all_tiles_historical_resampled_500m\\output_20060529'\n",
    "tiff_files = os.listdir(source_directory)\n",
    "selected_files = random.sample(tiff_files, sample_size)\n",
    "destination_directory = r'C:\\Users\\yixiu\\data_from_eosloan_reloc\\historical_data\\all_tiles_historical_resampled_500m\\selected_output_20060529'\n",
    "for file_path in selected_files:\n",
    "        full_file_path = os.path.join(r'C:\\Users\\yixiu\\data_from_eosloan_reloc\\historical_data\\all_tiles_historical_resampled_500m\\output_20060529', file_path)\n",
    "        shutil.copy(full_file_path, destination_directory)"
   ]
  },
  {
   "cell_type": "code",
   "execution_count": 15,
   "metadata": {},
   "outputs": [],
   "source": [
    "source_directory2 = r'C:\\Users\\yixiu\\data_from_eosloan_reloc\\historical_data\\all_tiles_historical_resampled_500m\\output_20080420'\n",
    "tiff_files2 = os.listdir(source_directory2)\n",
    "selected_files2 = random.sample(tiff_files2, sample_size)\n",
    "destination_directory2 = r'C:\\Users\\yixiu\\data_from_eosloan_reloc\\historical_data\\all_tiles_historical_resampled_500m\\selected_output_20080420'\n",
    "for file_path2 in selected_files2:\n",
    "        full_file_path2 = os.path.join(r'C:\\Users\\yixiu\\data_from_eosloan_reloc\\historical_data\\all_tiles_historical_resampled_500m\\output_20080420', file_path2)\n",
    "        shutil.copy(full_file_path2, destination_directory2)"
   ]
  },
  {
   "cell_type": "code",
   "execution_count": 16,
   "metadata": {},
   "outputs": [],
   "source": [
    "source_directory3 = r'C:\\Users\\yixiu\\data_from_eosloan_reloc\\historical_data\\all_tiles_historical_resampled_500m\\output_20100413'\n",
    "tiff_files3 = os.listdir(source_directory3)\n",
    "selected_files3 = random.sample(tiff_files3, sample_size)\n",
    "destination_directory3 = r'C:\\Users\\yixiu\\data_from_eosloan_reloc\\historical_data\\all_tiles_historical_resampled_500m\\selected_output_20100413'\n",
    "for file_path3 in selected_files3:\n",
    "        full_file_path3 = os.path.join(r'C:\\Users\\yixiu\\data_from_eosloan_reloc\\historical_data\\all_tiles_historical_resampled_500m\\output_20100413', file_path3)\n",
    "        shutil.copy(full_file_path3, destination_directory3)"
   ]
  }
 ],
 "metadata": {
  "kernelspec": {
   "display_name": "Python 3",
   "language": "python",
   "name": "python3"
  },
  "language_info": {
   "codemirror_mode": {
    "name": "ipython",
    "version": 3
   },
   "file_extension": ".py",
   "mimetype": "text/x-python",
   "name": "python",
   "nbconvert_exporter": "python",
   "pygments_lexer": "ipython3",
   "version": "3.11.3"
  }
 },
 "nbformat": 4,
 "nbformat_minor": 2
}
